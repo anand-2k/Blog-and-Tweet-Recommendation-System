{
 "cells": [
  {
   "cell_type": "code",
   "execution_count": 1,
   "metadata": {},
   "outputs": [
    {
     "data": {
      "text/html": [
       "        <script type=\"text/javascript\">\n",
       "        window.PlotlyConfig = {MathJaxConfig: 'local'};\n",
       "        if (window.MathJax) {MathJax.Hub.Config({SVG: {font: \"STIX-Web\"}});}\n",
       "        if (typeof require !== 'undefined') {\n",
       "        require.undef(\"plotly\");\n",
       "        requirejs.config({\n",
       "            paths: {\n",
       "                'plotly': ['https://cdn.plot.ly/plotly-latest.min']\n",
       "            }\n",
       "        });\n",
       "        require(['plotly'], function(Plotly) {\n",
       "            window._Plotly = Plotly;\n",
       "        });\n",
       "        }\n",
       "        </script>\n",
       "        "
      ]
     },
     "metadata": {},
     "output_type": "display_data"
    }
   ],
   "source": [
    "import pandas as pd\n",
    "import numpy as np\n",
    "import nltk\n",
    "import gensim\n",
    "import re\n",
    "import matplotlib.pyplot as plt\n",
    "import plotly.offline as py\n",
    "py.init_notebook_mode(connected=True)\n",
    "import plotly.graph_objs as go\n",
    "import plotly.tools as tls\n",
    "from gensim.utils import simple_preprocess\n",
    "from gensim.parsing.preprocessing import STOPWORDS\n",
    "from nltk.tokenize import TweetTokenizer\n",
    "from nltk import word_tokenize, FreqDist\n",
    "from nltk.corpus import stopwords\n",
    "from nltk.stem import WordNetLemmatizer\n",
    "from nltk.stem.porter import *\n",
    "from wordcloud import WordCloud\n",
    "np.random.seed(400)\n",
    "from pprint import pprint\n",
    "# nltk.download\n",
    "#nltk.download('wordnet')\n",
    "#nltk.download('stopwords')"
   ]
  },
  {
   "cell_type": "code",
   "execution_count": 2,
   "metadata": {},
   "outputs": [
    {
     "data": {
      "text/html": [
       "<div>\n",
       "<style scoped>\n",
       "    .dataframe tbody tr th:only-of-type {\n",
       "        vertical-align: middle;\n",
       "    }\n",
       "\n",
       "    .dataframe tbody tr th {\n",
       "        vertical-align: top;\n",
       "    }\n",
       "\n",
       "    .dataframe thead th {\n",
       "        text-align: right;\n",
       "    }\n",
       "</style>\n",
       "<table border=\"1\" class=\"dataframe\">\n",
       "  <thead>\n",
       "    <tr style=\"text-align: right;\">\n",
       "      <th></th>\n",
       "      <th>Unnamed: 0</th>\n",
       "      <th>news_headline</th>\n",
       "      <th>news_article</th>\n",
       "      <th>news_category</th>\n",
       "    </tr>\n",
       "  </thead>\n",
       "  <tbody>\n",
       "    <tr>\n",
       "      <th>0</th>\n",
       "      <td>0</td>\n",
       "      <td>50-year-old problem of biology solved by Artif...</td>\n",
       "      <td>DeepMind's AI system 'AlphaFold' has been reco...</td>\n",
       "      <td>technology</td>\n",
       "    </tr>\n",
       "    <tr>\n",
       "      <th>1</th>\n",
       "      <td>1</td>\n",
       "      <td>Microsoft Teams to stop working on Internet Ex...</td>\n",
       "      <td>Microsoft Teams will stop working on Internet ...</td>\n",
       "      <td>technology</td>\n",
       "    </tr>\n",
       "    <tr>\n",
       "      <th>2</th>\n",
       "      <td>2</td>\n",
       "      <td>Hope US won't erect barriers to cooperation: C...</td>\n",
       "      <td>China, in response to reports of US adding Chi...</td>\n",
       "      <td>technology</td>\n",
       "    </tr>\n",
       "    <tr>\n",
       "      <th>3</th>\n",
       "      <td>3</td>\n",
       "      <td>Global smartphone sales in Q3 falls 5.7% to 36...</td>\n",
       "      <td>The global smartphone sales in the third quart...</td>\n",
       "      <td>technology</td>\n",
       "    </tr>\n",
       "    <tr>\n",
       "      <th>4</th>\n",
       "      <td>4</td>\n",
       "      <td>EU hoping Biden will clarify US position on di...</td>\n",
       "      <td>The European Union (EU) is hoping that US Pres...</td>\n",
       "      <td>technology</td>\n",
       "    </tr>\n",
       "    <tr>\n",
       "      <th>5</th>\n",
       "      <td>5</td>\n",
       "      <td>Parliamentary panel divided over key issues in...</td>\n",
       "      <td>The members of the Joint Parliamentary Committ...</td>\n",
       "      <td>technology</td>\n",
       "    </tr>\n",
       "    <tr>\n",
       "      <th>6</th>\n",
       "      <td>6</td>\n",
       "      <td>Google, Facebook sign French govt's 'Tech for ...</td>\n",
       "      <td>Google CEO Sundar Pichai, Facebook CEO Mark Zu...</td>\n",
       "      <td>technology</td>\n",
       "    </tr>\n",
       "    <tr>\n",
       "      <th>7</th>\n",
       "      <td>7</td>\n",
       "      <td>Facebook could soon face its 1st antitrust sui...</td>\n",
       "      <td>Facebook could soon face the first antitrust a...</td>\n",
       "      <td>technology</td>\n",
       "    </tr>\n",
       "    <tr>\n",
       "      <th>8</th>\n",
       "      <td>8</td>\n",
       "      <td>Canada plans digital tax on tech majors like F...</td>\n",
       "      <td>Canada's Finance Department on Monday said it ...</td>\n",
       "      <td>technology</td>\n",
       "    </tr>\n",
       "    <tr>\n",
       "      <th>9</th>\n",
       "      <td>9</td>\n",
       "      <td>Twitter's 'Audio Spaces' to include transcript...</td>\n",
       "      <td>Twitter's \"Audio Spaces\", that will allow user...</td>\n",
       "      <td>technology</td>\n",
       "    </tr>\n",
       "    <tr>\n",
       "      <th>10</th>\n",
       "      <td>10</td>\n",
       "      <td>US FCC Chairman Ajit Pai to step down on Janua...</td>\n",
       "      <td>US Federal Communications Commission Chairman ...</td>\n",
       "      <td>technology</td>\n",
       "    </tr>\n",
       "    <tr>\n",
       "      <th>11</th>\n",
       "      <td>11</td>\n",
       "      <td>Tokyo Stock Exchange CEO to resign over outage...</td>\n",
       "      <td>Tokyo Stock Exchange (TSE) President and CEO K...</td>\n",
       "      <td>technology</td>\n",
       "    </tr>\n",
       "    <tr>\n",
       "      <th>12</th>\n",
       "      <td>12</td>\n",
       "      <td>Bitcoin hits new high at over $19,860, surges ...</td>\n",
       "      <td>Cryptocurrency Bitcoin on Monday briefly surge...</td>\n",
       "      <td>technology</td>\n",
       "    </tr>\n",
       "    <tr>\n",
       "      <th>13</th>\n",
       "      <td>13</td>\n",
       "      <td>Ant Group's IPO may not be revived before 2022...</td>\n",
       "      <td>Jack Ma-owned Ant Group's initial public offer...</td>\n",
       "      <td>technology</td>\n",
       "    </tr>\n",
       "    <tr>\n",
       "      <th>14</th>\n",
       "      <td>14</td>\n",
       "      <td>Italy fines Apple $12M for 'misleading' water-...</td>\n",
       "      <td>Italy's antitrust body has fined Apple $12 mil...</td>\n",
       "      <td>technology</td>\n",
       "    </tr>\n",
       "    <tr>\n",
       "      <th>15</th>\n",
       "      <td>15</td>\n",
       "      <td>Theme park with interactive Mario Kart rollerc...</td>\n",
       "      <td>Universal Studios Japan announced its Nintendo...</td>\n",
       "      <td>technology</td>\n",
       "    </tr>\n",
       "    <tr>\n",
       "      <th>16</th>\n",
       "      <td>16</td>\n",
       "      <td>General Motors to not acquire 11% stake in Nikola</td>\n",
       "      <td>General Motors (GM) and Nikola on Monday annou...</td>\n",
       "      <td>technology</td>\n",
       "    </tr>\n",
       "    <tr>\n",
       "      <th>17</th>\n",
       "      <td>17</td>\n",
       "      <td>Facebook buys customer service startup Kustome...</td>\n",
       "      <td>Facebook on Monday confirmed it has acquired K...</td>\n",
       "      <td>technology</td>\n",
       "    </tr>\n",
       "    <tr>\n",
       "      <th>18</th>\n",
       "      <td>18</td>\n",
       "      <td>Ex-Tesla factory worker to pay about ₹3 cr to ...</td>\n",
       "      <td>A former Tesla factory worker has agreed to pa...</td>\n",
       "      <td>technology</td>\n",
       "    </tr>\n",
       "    <tr>\n",
       "      <th>19</th>\n",
       "      <td>19</td>\n",
       "      <td>Global 5G subscriptions to rise to 22 crore by...</td>\n",
       "      <td>Swedish telecom company Ericsson on Monday rai...</td>\n",
       "      <td>technology</td>\n",
       "    </tr>\n",
       "  </tbody>\n",
       "</table>\n",
       "</div>"
      ],
      "text/plain": [
       "    Unnamed: 0                                      news_headline  \\\n",
       "0            0  50-year-old problem of biology solved by Artif...   \n",
       "1            1  Microsoft Teams to stop working on Internet Ex...   \n",
       "2            2  Hope US won't erect barriers to cooperation: C...   \n",
       "3            3  Global smartphone sales in Q3 falls 5.7% to 36...   \n",
       "4            4  EU hoping Biden will clarify US position on di...   \n",
       "5            5  Parliamentary panel divided over key issues in...   \n",
       "6            6  Google, Facebook sign French govt's 'Tech for ...   \n",
       "7            7  Facebook could soon face its 1st antitrust sui...   \n",
       "8            8  Canada plans digital tax on tech majors like F...   \n",
       "9            9  Twitter's 'Audio Spaces' to include transcript...   \n",
       "10          10  US FCC Chairman Ajit Pai to step down on Janua...   \n",
       "11          11  Tokyo Stock Exchange CEO to resign over outage...   \n",
       "12          12  Bitcoin hits new high at over $19,860, surges ...   \n",
       "13          13  Ant Group's IPO may not be revived before 2022...   \n",
       "14          14  Italy fines Apple $12M for 'misleading' water-...   \n",
       "15          15  Theme park with interactive Mario Kart rollerc...   \n",
       "16          16  General Motors to not acquire 11% stake in Nikola   \n",
       "17          17  Facebook buys customer service startup Kustome...   \n",
       "18          18  Ex-Tesla factory worker to pay about ₹3 cr to ...   \n",
       "19          19  Global 5G subscriptions to rise to 22 crore by...   \n",
       "\n",
       "                                         news_article news_category  \n",
       "0   DeepMind's AI system 'AlphaFold' has been reco...    technology  \n",
       "1   Microsoft Teams will stop working on Internet ...    technology  \n",
       "2   China, in response to reports of US adding Chi...    technology  \n",
       "3   The global smartphone sales in the third quart...    technology  \n",
       "4   The European Union (EU) is hoping that US Pres...    technology  \n",
       "5   The members of the Joint Parliamentary Committ...    technology  \n",
       "6   Google CEO Sundar Pichai, Facebook CEO Mark Zu...    technology  \n",
       "7   Facebook could soon face the first antitrust a...    technology  \n",
       "8   Canada's Finance Department on Monday said it ...    technology  \n",
       "9   Twitter's \"Audio Spaces\", that will allow user...    technology  \n",
       "10  US Federal Communications Commission Chairman ...    technology  \n",
       "11  Tokyo Stock Exchange (TSE) President and CEO K...    technology  \n",
       "12  Cryptocurrency Bitcoin on Monday briefly surge...    technology  \n",
       "13  Jack Ma-owned Ant Group's initial public offer...    technology  \n",
       "14  Italy's antitrust body has fined Apple $12 mil...    technology  \n",
       "15  Universal Studios Japan announced its Nintendo...    technology  \n",
       "16  General Motors (GM) and Nikola on Monday annou...    technology  \n",
       "17  Facebook on Monday confirmed it has acquired K...    technology  \n",
       "18  A former Tesla factory worker has agreed to pa...    technology  \n",
       "19  Swedish telecom company Ericsson on Monday rai...    technology  "
      ]
     },
     "execution_count": 2,
     "metadata": {},
     "output_type": "execute_result"
    }
   ],
   "source": [
    "df = pd.read_csv('inshort_news_data-1.csv')\n",
    "test_df = pd.read_csv('inshort_news_data-2.csv')\n",
    "df.head(20)"
   ]
  },
  {
   "cell_type": "code",
   "execution_count": 3,
   "metadata": {},
   "outputs": [
    {
     "name": "stdout",
     "output_type": "stream",
     "text": [
      "['technology', 'science', 'sports', 'politics', 'world', 'entertainment', 'automobile']\n",
      "7\n"
     ]
    }
   ],
   "source": [
    "category = pd.DataFrame()\n",
    "category['topic'] = test_df['news_category'];\n",
    "category_count = category['topic'].value_counts().index.tolist()\n",
    "print(category_count)\n",
    "print(len(category_count))"
   ]
  },
  {
   "cell_type": "code",
   "execution_count": 4,
   "metadata": {},
   "outputs": [
    {
     "data": {
      "text/html": [
       "<div>\n",
       "<style scoped>\n",
       "    .dataframe tbody tr th:only-of-type {\n",
       "        vertical-align: middle;\n",
       "    }\n",
       "\n",
       "    .dataframe tbody tr th {\n",
       "        vertical-align: top;\n",
       "    }\n",
       "\n",
       "    .dataframe thead th {\n",
       "        text-align: right;\n",
       "    }\n",
       "</style>\n",
       "<table border=\"1\" class=\"dataframe\">\n",
       "  <thead>\n",
       "    <tr style=\"text-align: right;\">\n",
       "      <th></th>\n",
       "      <th>Id</th>\n",
       "      <th>news_article</th>\n",
       "      <th>news_headline</th>\n",
       "    </tr>\n",
       "  </thead>\n",
       "  <tbody>\n",
       "    <tr>\n",
       "      <th>0</th>\n",
       "      <td>1</td>\n",
       "      <td>deepmind's ai system 'alphafold' has been reco...</td>\n",
       "      <td>50-year-old problem of biology solved by artif...</td>\n",
       "    </tr>\n",
       "    <tr>\n",
       "      <th>1</th>\n",
       "      <td>2</td>\n",
       "      <td>microsoft teams will stop working on internet ...</td>\n",
       "      <td>microsoft teams to stop working on internet ex...</td>\n",
       "    </tr>\n",
       "    <tr>\n",
       "      <th>2</th>\n",
       "      <td>3</td>\n",
       "      <td>china, in response to reports of us adding chi...</td>\n",
       "      <td>hope us won't erect barriers to cooperation: c...</td>\n",
       "    </tr>\n",
       "    <tr>\n",
       "      <th>3</th>\n",
       "      <td>4</td>\n",
       "      <td>the global smartphone sales in the third quart...</td>\n",
       "      <td>global smartphone sales in q3 falls 5.7% to 36...</td>\n",
       "    </tr>\n",
       "    <tr>\n",
       "      <th>4</th>\n",
       "      <td>5</td>\n",
       "      <td>the european union (eu) is hoping that us pres...</td>\n",
       "      <td>eu hoping biden will clarify us position on di...</td>\n",
       "    </tr>\n",
       "    <tr>\n",
       "      <th>5</th>\n",
       "      <td>6</td>\n",
       "      <td>the members of the joint parliamentary committ...</td>\n",
       "      <td>parliamentary panel divided over key issues in...</td>\n",
       "    </tr>\n",
       "    <tr>\n",
       "      <th>6</th>\n",
       "      <td>7</td>\n",
       "      <td>google ceo sundar pichai, facebook ceo mark zu...</td>\n",
       "      <td>google, facebook sign french govt's 'tech for ...</td>\n",
       "    </tr>\n",
       "    <tr>\n",
       "      <th>7</th>\n",
       "      <td>8</td>\n",
       "      <td>facebook could soon face the first antitrust a...</td>\n",
       "      <td>facebook could soon face its 1st antitrust sui...</td>\n",
       "    </tr>\n",
       "    <tr>\n",
       "      <th>8</th>\n",
       "      <td>9</td>\n",
       "      <td>canada's finance department on monday said it ...</td>\n",
       "      <td>canada plans digital tax on tech majors like f...</td>\n",
       "    </tr>\n",
       "    <tr>\n",
       "      <th>9</th>\n",
       "      <td>10</td>\n",
       "      <td>twitter's \"audio spaces\", that will allow user...</td>\n",
       "      <td>twitter's 'audio spaces' to include transcript...</td>\n",
       "    </tr>\n",
       "    <tr>\n",
       "      <th>10</th>\n",
       "      <td>11</td>\n",
       "      <td>us federal communications commission chairman ...</td>\n",
       "      <td>us fcc chairman ajit pai to step down on janua...</td>\n",
       "    </tr>\n",
       "    <tr>\n",
       "      <th>11</th>\n",
       "      <td>12</td>\n",
       "      <td>tokyo stock exchange (tse) president and ceo k...</td>\n",
       "      <td>tokyo stock exchange ceo to resign over outage...</td>\n",
       "    </tr>\n",
       "    <tr>\n",
       "      <th>12</th>\n",
       "      <td>13</td>\n",
       "      <td>cryptocurrency bitcoin on monday briefly surge...</td>\n",
       "      <td>bitcoin hits new high at over $19,860, surges ...</td>\n",
       "    </tr>\n",
       "    <tr>\n",
       "      <th>13</th>\n",
       "      <td>14</td>\n",
       "      <td>jack ma-owned ant group's initial public offer...</td>\n",
       "      <td>ant group's ipo may not be revived before 2022...</td>\n",
       "    </tr>\n",
       "    <tr>\n",
       "      <th>14</th>\n",
       "      <td>15</td>\n",
       "      <td>italy's antitrust body has fined apple $12 mil...</td>\n",
       "      <td>italy fines apple $12m for 'misleading' water-...</td>\n",
       "    </tr>\n",
       "    <tr>\n",
       "      <th>15</th>\n",
       "      <td>16</td>\n",
       "      <td>universal studios japan announced its nintendo...</td>\n",
       "      <td>theme park with interactive mario kart rollerc...</td>\n",
       "    </tr>\n",
       "    <tr>\n",
       "      <th>16</th>\n",
       "      <td>17</td>\n",
       "      <td>general motors (gm) and nikola on monday annou...</td>\n",
       "      <td>general motors to not acquire 11% stake in nikola</td>\n",
       "    </tr>\n",
       "    <tr>\n",
       "      <th>17</th>\n",
       "      <td>18</td>\n",
       "      <td>facebook on monday confirmed it has acquired k...</td>\n",
       "      <td>facebook buys customer service startup kustome...</td>\n",
       "    </tr>\n",
       "    <tr>\n",
       "      <th>18</th>\n",
       "      <td>19</td>\n",
       "      <td>a former tesla factory worker has agreed to pa...</td>\n",
       "      <td>ex-tesla factory worker to pay about ₹3 cr to ...</td>\n",
       "    </tr>\n",
       "    <tr>\n",
       "      <th>19</th>\n",
       "      <td>20</td>\n",
       "      <td>swedish telecom company ericsson on monday rai...</td>\n",
       "      <td>global 5g subscriptions to rise to 22 crore by...</td>\n",
       "    </tr>\n",
       "  </tbody>\n",
       "</table>\n",
       "</div>"
      ],
      "text/plain": [
       "    Id                                       news_article  \\\n",
       "0    1  deepmind's ai system 'alphafold' has been reco...   \n",
       "1    2  microsoft teams will stop working on internet ...   \n",
       "2    3  china, in response to reports of us adding chi...   \n",
       "3    4  the global smartphone sales in the third quart...   \n",
       "4    5  the european union (eu) is hoping that us pres...   \n",
       "5    6  the members of the joint parliamentary committ...   \n",
       "6    7  google ceo sundar pichai, facebook ceo mark zu...   \n",
       "7    8  facebook could soon face the first antitrust a...   \n",
       "8    9  canada's finance department on monday said it ...   \n",
       "9   10  twitter's \"audio spaces\", that will allow user...   \n",
       "10  11  us federal communications commission chairman ...   \n",
       "11  12  tokyo stock exchange (tse) president and ceo k...   \n",
       "12  13  cryptocurrency bitcoin on monday briefly surge...   \n",
       "13  14  jack ma-owned ant group's initial public offer...   \n",
       "14  15  italy's antitrust body has fined apple $12 mil...   \n",
       "15  16  universal studios japan announced its nintendo...   \n",
       "16  17  general motors (gm) and nikola on monday annou...   \n",
       "17  18  facebook on monday confirmed it has acquired k...   \n",
       "18  19  a former tesla factory worker has agreed to pa...   \n",
       "19  20  swedish telecom company ericsson on monday rai...   \n",
       "\n",
       "                                        news_headline  \n",
       "0   50-year-old problem of biology solved by artif...  \n",
       "1   microsoft teams to stop working on internet ex...  \n",
       "2   hope us won't erect barriers to cooperation: c...  \n",
       "3   global smartphone sales in q3 falls 5.7% to 36...  \n",
       "4   eu hoping biden will clarify us position on di...  \n",
       "5   parliamentary panel divided over key issues in...  \n",
       "6   google, facebook sign french govt's 'tech for ...  \n",
       "7   facebook could soon face its 1st antitrust sui...  \n",
       "8   canada plans digital tax on tech majors like f...  \n",
       "9   twitter's 'audio spaces' to include transcript...  \n",
       "10  us fcc chairman ajit pai to step down on janua...  \n",
       "11  tokyo stock exchange ceo to resign over outage...  \n",
       "12  bitcoin hits new high at over $19,860, surges ...  \n",
       "13  ant group's ipo may not be revived before 2022...  \n",
       "14  italy fines apple $12m for 'misleading' water-...  \n",
       "15  theme park with interactive mario kart rollerc...  \n",
       "16  general motors to not acquire 11% stake in nikola  \n",
       "17  facebook buys customer service startup kustome...  \n",
       "18  ex-tesla factory worker to pay about ₹3 cr to ...  \n",
       "19  global 5g subscriptions to rise to 22 crore by...  "
      ]
     },
     "execution_count": 4,
     "metadata": {},
     "output_type": "execute_result"
    }
   ],
   "source": [
    "df_clean = pd.DataFrame()\n",
    "df_clean['news_article'] = df.news_article.str.lower()\n",
    "df_clean['news_headline'] = df.news_headline.str.lower()\n",
    "df_clean.insert(0, 'Id', range(1, 1 + len(df_clean)))\n",
    "\n",
    "\n",
    "\n",
    "df_clean_test = pd.DataFrame()\n",
    "df_clean_test['news_article'] = test_df.news_article.str.lower()\n",
    "df_clean_test['news_headline'] = test_df.news_headline.str.lower()\n",
    "df_clean_test.insert(0, 'Id', range(1, 1 + len(df_clean_test)))\n",
    "\n",
    "\n",
    "\n",
    "df_clean.head(20)"
   ]
  },
  {
   "cell_type": "code",
   "execution_count": 5,
   "metadata": {
    "scrolled": true
   },
   "outputs": [
    {
     "data": {
      "application/vnd.plotly.v1+json": {
       "config": {
        "linkText": "Export to plot.ly",
        "plotlyServerURL": "https://plot.ly",
        "showLink": false
       },
       "data": [
        {
         "marker": {
          "color": [
           918,
           844,
           838,
           396,
           357,
           350,
           335,
           335,
           316,
           316,
           269,
           269,
           228,
           222,
           217,
           212,
           187,
           187,
           170,
           166,
           161,
           153,
           151,
           151,
           139,
           136,
           135,
           128,
           124,
           119,
           118,
           117,
           115,
           112,
           108,
           108,
           105,
           104,
           104,
           96,
           96,
           94,
           94,
           91,
           89,
           85,
           85,
           84,
           81,
           80,
           80,
           77,
           77,
           77,
           76,
           73,
           73,
           73,
           72,
           72,
           71,
           71,
           71,
           70,
           70,
           69,
           69,
           68,
           66,
           65,
           65,
           64,
           64,
           63,
           62,
           62,
           62,
           61,
           61,
           60,
           59,
           59,
           58,
           58,
           58,
           58,
           57,
           56,
           56,
           56,
           55,
           55,
           55,
           55,
           55,
           54,
           53,
           53
          ],
          "colorscale": [
           [
            0,
            "rgb(0,0,131)"
           ],
           [
            0.2,
            "rgb(0,60,170)"
           ],
           [
            0.4,
            "rgb(5,255,255)"
           ],
           [
            0.6,
            "rgb(255,255,0)"
           ],
           [
            0.8,
            "rgb(250,0,0)"
           ],
           [
            1,
            "rgb(128,0,0)"
           ]
          ]
         },
         "text": "Word counts",
         "type": "bar",
         "x": [
          "on",
          "for",
          "of",
          "a",
          "after",
          "covid-19",
          "us",
          "the",
          "as",
          "with",
          "from",
          "i",
          "at",
          "be",
          "is",
          "by",
          "india",
          "over",
          "and",
          "his",
          "my",
          "not",
          "vaccine",
          "was",
          "who",
          "video",
          "will",
          "it",
          "shares",
          "have",
          "1st",
          "has",
          "bjp",
          "against",
          "test",
          "china",
          "report",
          "out",
          "pm",
          "that",
          "says",
          "new",
          "reports",
          "its",
          "he",
          "cm",
          "uk",
          "pic"
         ],
         "y": [
          918,
          844,
          838,
          396,
          357,
          350,
          335,
          335,
          316,
          316,
          269,
          269,
          228,
          222,
          217,
          212,
          187,
          187,
          170,
          166,
          161,
          153,
          151,
          151,
          139,
          136,
          135,
          128,
          124,
          119,
          118,
          117,
          115,
          112,
          108,
          108,
          105,
          104,
          104,
          96,
          96,
          94,
          94,
          91,
          89,
          85,
          85,
          84
         ]
        }
       ],
       "layout": {
        "template": {
         "data": {
          "bar": [
           {
            "error_x": {
             "color": "#2a3f5f"
            },
            "error_y": {
             "color": "#2a3f5f"
            },
            "marker": {
             "line": {
              "color": "#E5ECF6",
              "width": 0.5
             }
            },
            "type": "bar"
           }
          ],
          "barpolar": [
           {
            "marker": {
             "line": {
              "color": "#E5ECF6",
              "width": 0.5
             }
            },
            "type": "barpolar"
           }
          ],
          "carpet": [
           {
            "aaxis": {
             "endlinecolor": "#2a3f5f",
             "gridcolor": "white",
             "linecolor": "white",
             "minorgridcolor": "white",
             "startlinecolor": "#2a3f5f"
            },
            "baxis": {
             "endlinecolor": "#2a3f5f",
             "gridcolor": "white",
             "linecolor": "white",
             "minorgridcolor": "white",
             "startlinecolor": "#2a3f5f"
            },
            "type": "carpet"
           }
          ],
          "choropleth": [
           {
            "colorbar": {
             "outlinewidth": 0,
             "ticks": ""
            },
            "type": "choropleth"
           }
          ],
          "contour": [
           {
            "colorbar": {
             "outlinewidth": 0,
             "ticks": ""
            },
            "colorscale": [
             [
              0,
              "#0d0887"
             ],
             [
              0.1111111111111111,
              "#46039f"
             ],
             [
              0.2222222222222222,
              "#7201a8"
             ],
             [
              0.3333333333333333,
              "#9c179e"
             ],
             [
              0.4444444444444444,
              "#bd3786"
             ],
             [
              0.5555555555555556,
              "#d8576b"
             ],
             [
              0.6666666666666666,
              "#ed7953"
             ],
             [
              0.7777777777777778,
              "#fb9f3a"
             ],
             [
              0.8888888888888888,
              "#fdca26"
             ],
             [
              1,
              "#f0f921"
             ]
            ],
            "type": "contour"
           }
          ],
          "contourcarpet": [
           {
            "colorbar": {
             "outlinewidth": 0,
             "ticks": ""
            },
            "type": "contourcarpet"
           }
          ],
          "heatmap": [
           {
            "colorbar": {
             "outlinewidth": 0,
             "ticks": ""
            },
            "colorscale": [
             [
              0,
              "#0d0887"
             ],
             [
              0.1111111111111111,
              "#46039f"
             ],
             [
              0.2222222222222222,
              "#7201a8"
             ],
             [
              0.3333333333333333,
              "#9c179e"
             ],
             [
              0.4444444444444444,
              "#bd3786"
             ],
             [
              0.5555555555555556,
              "#d8576b"
             ],
             [
              0.6666666666666666,
              "#ed7953"
             ],
             [
              0.7777777777777778,
              "#fb9f3a"
             ],
             [
              0.8888888888888888,
              "#fdca26"
             ],
             [
              1,
              "#f0f921"
             ]
            ],
            "type": "heatmap"
           }
          ],
          "heatmapgl": [
           {
            "colorbar": {
             "outlinewidth": 0,
             "ticks": ""
            },
            "colorscale": [
             [
              0,
              "#0d0887"
             ],
             [
              0.1111111111111111,
              "#46039f"
             ],
             [
              0.2222222222222222,
              "#7201a8"
             ],
             [
              0.3333333333333333,
              "#9c179e"
             ],
             [
              0.4444444444444444,
              "#bd3786"
             ],
             [
              0.5555555555555556,
              "#d8576b"
             ],
             [
              0.6666666666666666,
              "#ed7953"
             ],
             [
              0.7777777777777778,
              "#fb9f3a"
             ],
             [
              0.8888888888888888,
              "#fdca26"
             ],
             [
              1,
              "#f0f921"
             ]
            ],
            "type": "heatmapgl"
           }
          ],
          "histogram": [
           {
            "marker": {
             "colorbar": {
              "outlinewidth": 0,
              "ticks": ""
             }
            },
            "type": "histogram"
           }
          ],
          "histogram2d": [
           {
            "colorbar": {
             "outlinewidth": 0,
             "ticks": ""
            },
            "colorscale": [
             [
              0,
              "#0d0887"
             ],
             [
              0.1111111111111111,
              "#46039f"
             ],
             [
              0.2222222222222222,
              "#7201a8"
             ],
             [
              0.3333333333333333,
              "#9c179e"
             ],
             [
              0.4444444444444444,
              "#bd3786"
             ],
             [
              0.5555555555555556,
              "#d8576b"
             ],
             [
              0.6666666666666666,
              "#ed7953"
             ],
             [
              0.7777777777777778,
              "#fb9f3a"
             ],
             [
              0.8888888888888888,
              "#fdca26"
             ],
             [
              1,
              "#f0f921"
             ]
            ],
            "type": "histogram2d"
           }
          ],
          "histogram2dcontour": [
           {
            "colorbar": {
             "outlinewidth": 0,
             "ticks": ""
            },
            "colorscale": [
             [
              0,
              "#0d0887"
             ],
             [
              0.1111111111111111,
              "#46039f"
             ],
             [
              0.2222222222222222,
              "#7201a8"
             ],
             [
              0.3333333333333333,
              "#9c179e"
             ],
             [
              0.4444444444444444,
              "#bd3786"
             ],
             [
              0.5555555555555556,
              "#d8576b"
             ],
             [
              0.6666666666666666,
              "#ed7953"
             ],
             [
              0.7777777777777778,
              "#fb9f3a"
             ],
             [
              0.8888888888888888,
              "#fdca26"
             ],
             [
              1,
              "#f0f921"
             ]
            ],
            "type": "histogram2dcontour"
           }
          ],
          "mesh3d": [
           {
            "colorbar": {
             "outlinewidth": 0,
             "ticks": ""
            },
            "type": "mesh3d"
           }
          ],
          "parcoords": [
           {
            "line": {
             "colorbar": {
              "outlinewidth": 0,
              "ticks": ""
             }
            },
            "type": "parcoords"
           }
          ],
          "pie": [
           {
            "automargin": true,
            "type": "pie"
           }
          ],
          "scatter": [
           {
            "marker": {
             "colorbar": {
              "outlinewidth": 0,
              "ticks": ""
             }
            },
            "type": "scatter"
           }
          ],
          "scatter3d": [
           {
            "line": {
             "colorbar": {
              "outlinewidth": 0,
              "ticks": ""
             }
            },
            "marker": {
             "colorbar": {
              "outlinewidth": 0,
              "ticks": ""
             }
            },
            "type": "scatter3d"
           }
          ],
          "scattercarpet": [
           {
            "marker": {
             "colorbar": {
              "outlinewidth": 0,
              "ticks": ""
             }
            },
            "type": "scattercarpet"
           }
          ],
          "scattergeo": [
           {
            "marker": {
             "colorbar": {
              "outlinewidth": 0,
              "ticks": ""
             }
            },
            "type": "scattergeo"
           }
          ],
          "scattergl": [
           {
            "marker": {
             "colorbar": {
              "outlinewidth": 0,
              "ticks": ""
             }
            },
            "type": "scattergl"
           }
          ],
          "scattermapbox": [
           {
            "marker": {
             "colorbar": {
              "outlinewidth": 0,
              "ticks": ""
             }
            },
            "type": "scattermapbox"
           }
          ],
          "scatterpolar": [
           {
            "marker": {
             "colorbar": {
              "outlinewidth": 0,
              "ticks": ""
             }
            },
            "type": "scatterpolar"
           }
          ],
          "scatterpolargl": [
           {
            "marker": {
             "colorbar": {
              "outlinewidth": 0,
              "ticks": ""
             }
            },
            "type": "scatterpolargl"
           }
          ],
          "scatterternary": [
           {
            "marker": {
             "colorbar": {
              "outlinewidth": 0,
              "ticks": ""
             }
            },
            "type": "scatterternary"
           }
          ],
          "surface": [
           {
            "colorbar": {
             "outlinewidth": 0,
             "ticks": ""
            },
            "colorscale": [
             [
              0,
              "#0d0887"
             ],
             [
              0.1111111111111111,
              "#46039f"
             ],
             [
              0.2222222222222222,
              "#7201a8"
             ],
             [
              0.3333333333333333,
              "#9c179e"
             ],
             [
              0.4444444444444444,
              "#bd3786"
             ],
             [
              0.5555555555555556,
              "#d8576b"
             ],
             [
              0.6666666666666666,
              "#ed7953"
             ],
             [
              0.7777777777777778,
              "#fb9f3a"
             ],
             [
              0.8888888888888888,
              "#fdca26"
             ],
             [
              1,
              "#f0f921"
             ]
            ],
            "type": "surface"
           }
          ],
          "table": [
           {
            "cells": {
             "fill": {
              "color": "#EBF0F8"
             },
             "line": {
              "color": "white"
             }
            },
            "header": {
             "fill": {
              "color": "#C8D4E3"
             },
             "line": {
              "color": "white"
             }
            },
            "type": "table"
           }
          ]
         },
         "layout": {
          "annotationdefaults": {
           "arrowcolor": "#2a3f5f",
           "arrowhead": 0,
           "arrowwidth": 1
          },
          "autotypenumbers": "strict",
          "coloraxis": {
           "colorbar": {
            "outlinewidth": 0,
            "ticks": ""
           }
          },
          "colorscale": {
           "diverging": [
            [
             0,
             "#8e0152"
            ],
            [
             0.1,
             "#c51b7d"
            ],
            [
             0.2,
             "#de77ae"
            ],
            [
             0.3,
             "#f1b6da"
            ],
            [
             0.4,
             "#fde0ef"
            ],
            [
             0.5,
             "#f7f7f7"
            ],
            [
             0.6,
             "#e6f5d0"
            ],
            [
             0.7,
             "#b8e186"
            ],
            [
             0.8,
             "#7fbc41"
            ],
            [
             0.9,
             "#4d9221"
            ],
            [
             1,
             "#276419"
            ]
           ],
           "sequential": [
            [
             0,
             "#0d0887"
            ],
            [
             0.1111111111111111,
             "#46039f"
            ],
            [
             0.2222222222222222,
             "#7201a8"
            ],
            [
             0.3333333333333333,
             "#9c179e"
            ],
            [
             0.4444444444444444,
             "#bd3786"
            ],
            [
             0.5555555555555556,
             "#d8576b"
            ],
            [
             0.6666666666666666,
             "#ed7953"
            ],
            [
             0.7777777777777778,
             "#fb9f3a"
            ],
            [
             0.8888888888888888,
             "#fdca26"
            ],
            [
             1,
             "#f0f921"
            ]
           ],
           "sequentialminus": [
            [
             0,
             "#0d0887"
            ],
            [
             0.1111111111111111,
             "#46039f"
            ],
            [
             0.2222222222222222,
             "#7201a8"
            ],
            [
             0.3333333333333333,
             "#9c179e"
            ],
            [
             0.4444444444444444,
             "#bd3786"
            ],
            [
             0.5555555555555556,
             "#d8576b"
            ],
            [
             0.6666666666666666,
             "#ed7953"
            ],
            [
             0.7777777777777778,
             "#fb9f3a"
            ],
            [
             0.8888888888888888,
             "#fdca26"
            ],
            [
             1,
             "#f0f921"
            ]
           ]
          },
          "colorway": [
           "#636efa",
           "#EF553B",
           "#00cc96",
           "#ab63fa",
           "#FFA15A",
           "#19d3f3",
           "#FF6692",
           "#B6E880",
           "#FF97FF",
           "#FECB52"
          ],
          "font": {
           "color": "#2a3f5f"
          },
          "geo": {
           "bgcolor": "white",
           "lakecolor": "white",
           "landcolor": "#E5ECF6",
           "showlakes": true,
           "showland": true,
           "subunitcolor": "white"
          },
          "hoverlabel": {
           "align": "left"
          },
          "hovermode": "closest",
          "mapbox": {
           "style": "light"
          },
          "paper_bgcolor": "white",
          "plot_bgcolor": "#E5ECF6",
          "polar": {
           "angularaxis": {
            "gridcolor": "white",
            "linecolor": "white",
            "ticks": ""
           },
           "bgcolor": "#E5ECF6",
           "radialaxis": {
            "gridcolor": "white",
            "linecolor": "white",
            "ticks": ""
           }
          },
          "scene": {
           "xaxis": {
            "backgroundcolor": "#E5ECF6",
            "gridcolor": "white",
            "gridwidth": 2,
            "linecolor": "white",
            "showbackground": true,
            "ticks": "",
            "zerolinecolor": "white"
           },
           "yaxis": {
            "backgroundcolor": "#E5ECF6",
            "gridcolor": "white",
            "gridwidth": 2,
            "linecolor": "white",
            "showbackground": true,
            "ticks": "",
            "zerolinecolor": "white"
           },
           "zaxis": {
            "backgroundcolor": "#E5ECF6",
            "gridcolor": "white",
            "gridwidth": 2,
            "linecolor": "white",
            "showbackground": true,
            "ticks": "",
            "zerolinecolor": "white"
           }
          },
          "shapedefaults": {
           "line": {
            "color": "#2a3f5f"
           }
          },
          "ternary": {
           "aaxis": {
            "gridcolor": "white",
            "linecolor": "white",
            "ticks": ""
           },
           "baxis": {
            "gridcolor": "white",
            "linecolor": "white",
            "ticks": ""
           },
           "bgcolor": "#E5ECF6",
           "caxis": {
            "gridcolor": "white",
            "linecolor": "white",
            "ticks": ""
           }
          },
          "title": {
           "x": 0.05
          },
          "xaxis": {
           "automargin": true,
           "gridcolor": "white",
           "linecolor": "white",
           "ticks": "",
           "title": {
            "standoff": 15
           },
           "zerolinecolor": "white",
           "zerolinewidth": 2
          },
          "yaxis": {
           "automargin": true,
           "gridcolor": "white",
           "linecolor": "white",
           "ticks": "",
           "title": {
            "standoff": 15
           },
           "zerolinecolor": "white",
           "zerolinewidth": 2
          }
         }
        },
        "title": {
         "text": "Top 50 (Uncleaned) Word frequencies in dataset"
        }
       }
      },
      "text/html": [
       "<div>                            <div id=\"e9a95b53-c54e-47ba-93e2-74beeec15aa3\" class=\"plotly-graph-div\" style=\"height:525px; width:100%;\"></div>            <script type=\"text/javascript\">                require([\"plotly\"], function(Plotly) {                    window.PLOTLYENV=window.PLOTLYENV || {};                                    if (document.getElementById(\"e9a95b53-c54e-47ba-93e2-74beeec15aa3\")) {                    Plotly.newPlot(                        \"e9a95b53-c54e-47ba-93e2-74beeec15aa3\",                        [{\"marker\": {\"color\": [918, 844, 838, 396, 357, 350, 335, 335, 316, 316, 269, 269, 228, 222, 217, 212, 187, 187, 170, 166, 161, 153, 151, 151, 139, 136, 135, 128, 124, 119, 118, 117, 115, 112, 108, 108, 105, 104, 104, 96, 96, 94, 94, 91, 89, 85, 85, 84, 81, 80, 80, 77, 77, 77, 76, 73, 73, 73, 72, 72, 71, 71, 71, 70, 70, 69, 69, 68, 66, 65, 65, 64, 64, 63, 62, 62, 62, 61, 61, 60, 59, 59, 58, 58, 58, 58, 57, 56, 56, 56, 55, 55, 55, 55, 55, 54, 53, 53], \"colorscale\": [[0.0, \"rgb(0,0,131)\"], [0.2, \"rgb(0,60,170)\"], [0.4, \"rgb(5,255,255)\"], [0.6, \"rgb(255,255,0)\"], [0.8, \"rgb(250,0,0)\"], [1.0, \"rgb(128,0,0)\"]]}, \"text\": \"Word counts\", \"type\": \"bar\", \"x\": [\"on\", \"for\", \"of\", \"a\", \"after\", \"covid-19\", \"us\", \"the\", \"as\", \"with\", \"from\", \"i\", \"at\", \"be\", \"is\", \"by\", \"india\", \"over\", \"and\", \"his\", \"my\", \"not\", \"vaccine\", \"was\", \"who\", \"video\", \"will\", \"it\", \"shares\", \"have\", \"1st\", \"has\", \"bjp\", \"against\", \"test\", \"china\", \"report\", \"out\", \"pm\", \"that\", \"says\", \"new\", \"reports\", \"its\", \"he\", \"cm\", \"uk\", \"pic\"], \"y\": [918, 844, 838, 396, 357, 350, 335, 335, 316, 316, 269, 269, 228, 222, 217, 212, 187, 187, 170, 166, 161, 153, 151, 151, 139, 136, 135, 128, 124, 119, 118, 117, 115, 112, 108, 108, 105, 104, 104, 96, 96, 94, 94, 91, 89, 85, 85, 84]}],                        {\"template\": {\"data\": {\"bar\": [{\"error_x\": {\"color\": \"#2a3f5f\"}, \"error_y\": {\"color\": \"#2a3f5f\"}, \"marker\": {\"line\": {\"color\": \"#E5ECF6\", \"width\": 0.5}}, \"type\": \"bar\"}], \"barpolar\": [{\"marker\": {\"line\": {\"color\": \"#E5ECF6\", \"width\": 0.5}}, \"type\": \"barpolar\"}], \"carpet\": [{\"aaxis\": {\"endlinecolor\": \"#2a3f5f\", \"gridcolor\": \"white\", \"linecolor\": \"white\", \"minorgridcolor\": \"white\", \"startlinecolor\": \"#2a3f5f\"}, \"baxis\": {\"endlinecolor\": \"#2a3f5f\", \"gridcolor\": \"white\", \"linecolor\": \"white\", \"minorgridcolor\": \"white\", \"startlinecolor\": \"#2a3f5f\"}, \"type\": \"carpet\"}], \"choropleth\": [{\"colorbar\": {\"outlinewidth\": 0, \"ticks\": \"\"}, \"type\": \"choropleth\"}], \"contour\": [{\"colorbar\": {\"outlinewidth\": 0, \"ticks\": \"\"}, \"colorscale\": [[0.0, \"#0d0887\"], [0.1111111111111111, \"#46039f\"], [0.2222222222222222, \"#7201a8\"], [0.3333333333333333, \"#9c179e\"], [0.4444444444444444, \"#bd3786\"], [0.5555555555555556, \"#d8576b\"], [0.6666666666666666, \"#ed7953\"], [0.7777777777777778, \"#fb9f3a\"], [0.8888888888888888, \"#fdca26\"], [1.0, \"#f0f921\"]], \"type\": \"contour\"}], \"contourcarpet\": [{\"colorbar\": {\"outlinewidth\": 0, \"ticks\": \"\"}, \"type\": \"contourcarpet\"}], \"heatmap\": [{\"colorbar\": {\"outlinewidth\": 0, \"ticks\": \"\"}, \"colorscale\": [[0.0, \"#0d0887\"], [0.1111111111111111, \"#46039f\"], [0.2222222222222222, \"#7201a8\"], [0.3333333333333333, \"#9c179e\"], [0.4444444444444444, \"#bd3786\"], [0.5555555555555556, \"#d8576b\"], [0.6666666666666666, \"#ed7953\"], [0.7777777777777778, \"#fb9f3a\"], [0.8888888888888888, \"#fdca26\"], [1.0, \"#f0f921\"]], \"type\": \"heatmap\"}], \"heatmapgl\": [{\"colorbar\": {\"outlinewidth\": 0, \"ticks\": \"\"}, \"colorscale\": [[0.0, \"#0d0887\"], [0.1111111111111111, \"#46039f\"], [0.2222222222222222, \"#7201a8\"], [0.3333333333333333, \"#9c179e\"], [0.4444444444444444, \"#bd3786\"], [0.5555555555555556, \"#d8576b\"], [0.6666666666666666, \"#ed7953\"], [0.7777777777777778, \"#fb9f3a\"], [0.8888888888888888, \"#fdca26\"], [1.0, \"#f0f921\"]], \"type\": \"heatmapgl\"}], \"histogram\": [{\"marker\": {\"colorbar\": {\"outlinewidth\": 0, \"ticks\": \"\"}}, \"type\": \"histogram\"}], \"histogram2d\": [{\"colorbar\": {\"outlinewidth\": 0, \"ticks\": \"\"}, \"colorscale\": [[0.0, \"#0d0887\"], [0.1111111111111111, \"#46039f\"], [0.2222222222222222, \"#7201a8\"], [0.3333333333333333, \"#9c179e\"], [0.4444444444444444, \"#bd3786\"], [0.5555555555555556, \"#d8576b\"], [0.6666666666666666, \"#ed7953\"], [0.7777777777777778, \"#fb9f3a\"], [0.8888888888888888, \"#fdca26\"], [1.0, \"#f0f921\"]], \"type\": \"histogram2d\"}], \"histogram2dcontour\": [{\"colorbar\": {\"outlinewidth\": 0, \"ticks\": \"\"}, \"colorscale\": [[0.0, \"#0d0887\"], [0.1111111111111111, \"#46039f\"], [0.2222222222222222, \"#7201a8\"], [0.3333333333333333, \"#9c179e\"], [0.4444444444444444, \"#bd3786\"], [0.5555555555555556, \"#d8576b\"], [0.6666666666666666, \"#ed7953\"], [0.7777777777777778, \"#fb9f3a\"], [0.8888888888888888, \"#fdca26\"], [1.0, \"#f0f921\"]], \"type\": \"histogram2dcontour\"}], \"mesh3d\": [{\"colorbar\": {\"outlinewidth\": 0, \"ticks\": \"\"}, \"type\": \"mesh3d\"}], \"parcoords\": [{\"line\": {\"colorbar\": {\"outlinewidth\": 0, \"ticks\": \"\"}}, \"type\": \"parcoords\"}], \"pie\": [{\"automargin\": true, \"type\": \"pie\"}], \"scatter\": [{\"marker\": {\"colorbar\": {\"outlinewidth\": 0, \"ticks\": \"\"}}, \"type\": \"scatter\"}], \"scatter3d\": [{\"line\": {\"colorbar\": {\"outlinewidth\": 0, \"ticks\": \"\"}}, \"marker\": {\"colorbar\": {\"outlinewidth\": 0, \"ticks\": \"\"}}, \"type\": \"scatter3d\"}], \"scattercarpet\": [{\"marker\": {\"colorbar\": {\"outlinewidth\": 0, \"ticks\": \"\"}}, \"type\": \"scattercarpet\"}], \"scattergeo\": [{\"marker\": {\"colorbar\": {\"outlinewidth\": 0, \"ticks\": \"\"}}, \"type\": \"scattergeo\"}], \"scattergl\": [{\"marker\": {\"colorbar\": {\"outlinewidth\": 0, \"ticks\": \"\"}}, \"type\": \"scattergl\"}], \"scattermapbox\": [{\"marker\": {\"colorbar\": {\"outlinewidth\": 0, \"ticks\": \"\"}}, \"type\": \"scattermapbox\"}], \"scatterpolar\": [{\"marker\": {\"colorbar\": {\"outlinewidth\": 0, \"ticks\": \"\"}}, \"type\": \"scatterpolar\"}], \"scatterpolargl\": [{\"marker\": {\"colorbar\": {\"outlinewidth\": 0, \"ticks\": \"\"}}, \"type\": \"scatterpolargl\"}], \"scatterternary\": [{\"marker\": {\"colorbar\": {\"outlinewidth\": 0, \"ticks\": \"\"}}, \"type\": \"scatterternary\"}], \"surface\": [{\"colorbar\": {\"outlinewidth\": 0, \"ticks\": \"\"}, \"colorscale\": [[0.0, \"#0d0887\"], [0.1111111111111111, \"#46039f\"], [0.2222222222222222, \"#7201a8\"], [0.3333333333333333, \"#9c179e\"], [0.4444444444444444, \"#bd3786\"], [0.5555555555555556, \"#d8576b\"], [0.6666666666666666, \"#ed7953\"], [0.7777777777777778, \"#fb9f3a\"], [0.8888888888888888, \"#fdca26\"], [1.0, \"#f0f921\"]], \"type\": \"surface\"}], \"table\": [{\"cells\": {\"fill\": {\"color\": \"#EBF0F8\"}, \"line\": {\"color\": \"white\"}}, \"header\": {\"fill\": {\"color\": \"#C8D4E3\"}, \"line\": {\"color\": \"white\"}}, \"type\": \"table\"}]}, \"layout\": {\"annotationdefaults\": {\"arrowcolor\": \"#2a3f5f\", \"arrowhead\": 0, \"arrowwidth\": 1}, \"autotypenumbers\": \"strict\", \"coloraxis\": {\"colorbar\": {\"outlinewidth\": 0, \"ticks\": \"\"}}, \"colorscale\": {\"diverging\": [[0, \"#8e0152\"], [0.1, \"#c51b7d\"], [0.2, \"#de77ae\"], [0.3, \"#f1b6da\"], [0.4, \"#fde0ef\"], [0.5, \"#f7f7f7\"], [0.6, \"#e6f5d0\"], [0.7, \"#b8e186\"], [0.8, \"#7fbc41\"], [0.9, \"#4d9221\"], [1, \"#276419\"]], \"sequential\": [[0.0, \"#0d0887\"], [0.1111111111111111, \"#46039f\"], [0.2222222222222222, \"#7201a8\"], [0.3333333333333333, \"#9c179e\"], [0.4444444444444444, \"#bd3786\"], [0.5555555555555556, \"#d8576b\"], [0.6666666666666666, \"#ed7953\"], [0.7777777777777778, \"#fb9f3a\"], [0.8888888888888888, \"#fdca26\"], [1.0, \"#f0f921\"]], \"sequentialminus\": [[0.0, \"#0d0887\"], [0.1111111111111111, \"#46039f\"], [0.2222222222222222, \"#7201a8\"], [0.3333333333333333, \"#9c179e\"], [0.4444444444444444, \"#bd3786\"], [0.5555555555555556, \"#d8576b\"], [0.6666666666666666, \"#ed7953\"], [0.7777777777777778, \"#fb9f3a\"], [0.8888888888888888, \"#fdca26\"], [1.0, \"#f0f921\"]]}, \"colorway\": [\"#636efa\", \"#EF553B\", \"#00cc96\", \"#ab63fa\", \"#FFA15A\", \"#19d3f3\", \"#FF6692\", \"#B6E880\", \"#FF97FF\", \"#FECB52\"], \"font\": {\"color\": \"#2a3f5f\"}, \"geo\": {\"bgcolor\": \"white\", \"lakecolor\": \"white\", \"landcolor\": \"#E5ECF6\", \"showlakes\": true, \"showland\": true, \"subunitcolor\": \"white\"}, \"hoverlabel\": {\"align\": \"left\"}, \"hovermode\": \"closest\", \"mapbox\": {\"style\": \"light\"}, \"paper_bgcolor\": \"white\", \"plot_bgcolor\": \"#E5ECF6\", \"polar\": {\"angularaxis\": {\"gridcolor\": \"white\", \"linecolor\": \"white\", \"ticks\": \"\"}, \"bgcolor\": \"#E5ECF6\", \"radialaxis\": {\"gridcolor\": \"white\", \"linecolor\": \"white\", \"ticks\": \"\"}}, \"scene\": {\"xaxis\": {\"backgroundcolor\": \"#E5ECF6\", \"gridcolor\": \"white\", \"gridwidth\": 2, \"linecolor\": \"white\", \"showbackground\": true, \"ticks\": \"\", \"zerolinecolor\": \"white\"}, \"yaxis\": {\"backgroundcolor\": \"#E5ECF6\", \"gridcolor\": \"white\", \"gridwidth\": 2, \"linecolor\": \"white\", \"showbackground\": true, \"ticks\": \"\", \"zerolinecolor\": \"white\"}, \"zaxis\": {\"backgroundcolor\": \"#E5ECF6\", \"gridcolor\": \"white\", \"gridwidth\": 2, \"linecolor\": \"white\", \"showbackground\": true, \"ticks\": \"\", \"zerolinecolor\": \"white\"}}, \"shapedefaults\": {\"line\": {\"color\": \"#2a3f5f\"}}, \"ternary\": {\"aaxis\": {\"gridcolor\": \"white\", \"linecolor\": \"white\", \"ticks\": \"\"}, \"baxis\": {\"gridcolor\": \"white\", \"linecolor\": \"white\", \"ticks\": \"\"}, \"bgcolor\": \"#E5ECF6\", \"caxis\": {\"gridcolor\": \"white\", \"linecolor\": \"white\", \"ticks\": \"\"}}, \"title\": {\"x\": 0.05}, \"xaxis\": {\"automargin\": true, \"gridcolor\": \"white\", \"linecolor\": \"white\", \"ticks\": \"\", \"title\": {\"standoff\": 15}, \"zerolinecolor\": \"white\", \"zerolinewidth\": 2}, \"yaxis\": {\"automargin\": true, \"gridcolor\": \"white\", \"linecolor\": \"white\", \"ticks\": \"\", \"title\": {\"standoff\": 15}, \"zerolinecolor\": \"white\", \"zerolinewidth\": 2}}}, \"title\": {\"text\": \"Top 50 (Uncleaned) Word frequencies in dataset\"}},                        {\"responsive\": true}                    ).then(function(){\n",
       "                            \n",
       "var gd = document.getElementById('e9a95b53-c54e-47ba-93e2-74beeec15aa3');\n",
       "var x = new MutationObserver(function (mutations, observer) {{\n",
       "        var display = window.getComputedStyle(gd).display;\n",
       "        if (!display || display === 'none') {{\n",
       "            console.log([gd, 'removed!']);\n",
       "            Plotly.purge(gd);\n",
       "            observer.disconnect();\n",
       "        }}\n",
       "}});\n",
       "\n",
       "// Listen for the removal of the full notebook cells\n",
       "var notebookContainer = gd.closest('#notebook-container');\n",
       "if (notebookContainer) {{\n",
       "    x.observe(notebookContainer, {childList: true});\n",
       "}}\n",
       "\n",
       "// Listen for the clearing of the current output cell\n",
       "var outputEl = gd.closest('.output');\n",
       "if (outputEl) {{\n",
       "    x.observe(outputEl, {childList: true});\n",
       "}}\n",
       "\n",
       "                        })                };                });            </script>        </div>"
      ]
     },
     "metadata": {},
     "output_type": "display_data"
    }
   ],
   "source": [
    "All_words = df_clean['news_headline'].str.split(expand=True).unstack().value_counts()\n",
    "data = [go.Bar(x = All_words.index.values[2:50],\n",
    "                y = All_words.values[2:50],\n",
    "                marker= dict(colorscale='Jet', color = All_words.values[2:100]),\n",
    "                text='Word counts'\n",
    "    )]\n",
    "\n",
    "layout = go.Layout(\n",
    "    title='Top 50 (Uncleaned) Word frequencies in dataset'\n",
    ")\n",
    "\n",
    "fig = go.Figure(data=data, layout=layout)\n",
    "\n",
    "py.iplot(fig, filename='Uncleaned Words')"
   ]
  },
  {
   "cell_type": "code",
   "execution_count": 6,
   "metadata": {},
   "outputs": [
    {
     "data": {
      "image/png": "[encoded data removed]",
      "text/plain": [
       "<PIL.Image.Image image mode=RGB size=400x200 at 0x7FF69961C0D0>"
      ]
     },
     "execution_count": 6,
     "metadata": {},
     "output_type": "execute_result"
    }
   ],
   "source": [
    "from wordcloud import WordCloud\n",
    "long_string = ','.join(list(df_clean['news_headline'].values))\n",
    "wordcloud = WordCloud(background_color=\"white\", max_words=5000, contour_width=3, contour_color='steelblue')\n",
    "wordcloud.generate(long_string)\n",
    "wordcloud.to_image()"
   ]
  },
  {
   "cell_type": "code",
   "execution_count": 7,
   "metadata": {},
   "outputs": [],
   "source": [
    "df_clean.news_article = df_clean.news_article.apply(lambda x: re.sub(r\"[\\,\\.\\'\\\"\\`]\", '', x))\n",
    "df_clean.news_headline = df_clean.news_headline.apply(lambda x: re.sub(r\"[\\,\\.\\'\\\"\\`]\", '', x))\n",
    "\n",
    "\n",
    "\n",
    "df_clean_test.news_article = df_clean_test.news_article.apply(lambda x: re.sub(r\"[\\,\\.\\'\\\"\\`]\", '', x))\n",
    "df_clean_test.news_headline = df_clean_test.news_headline.apply(lambda x: re.sub(r\"[\\,\\.\\'\\\"\\`]\", '', x))"
   ]
  },
  {
   "cell_type": "code",
   "execution_count": 8,
   "metadata": {},
   "outputs": [
    {
     "data": {
      "text/html": [
       "<div>\n",
       "<style scoped>\n",
       "    .dataframe tbody tr th:only-of-type {\n",
       "        vertical-align: middle;\n",
       "    }\n",
       "\n",
       "    .dataframe tbody tr th {\n",
       "        vertical-align: top;\n",
       "    }\n",
       "\n",
       "    .dataframe thead th {\n",
       "        text-align: right;\n",
       "    }\n",
       "</style>\n",
       "<table border=\"1\" class=\"dataframe\">\n",
       "  <thead>\n",
       "    <tr style=\"text-align: right;\">\n",
       "      <th></th>\n",
       "      <th>Id</th>\n",
       "      <th>news_article</th>\n",
       "      <th>news_headline</th>\n",
       "      <th>article_tokens</th>\n",
       "      <th>headline_tokens</th>\n",
       "    </tr>\n",
       "  </thead>\n",
       "  <tbody>\n",
       "    <tr>\n",
       "      <th>0</th>\n",
       "      <td>1</td>\n",
       "      <td>deepminds ai system alphafold has been recogni...</td>\n",
       "      <td>50-year-old problem of biology solved by artif...</td>\n",
       "      <td>[deepminds, ai, system, alphafold, has, been, ...</td>\n",
       "      <td>[50, -, year-old, problem, of, biology, solved...</td>\n",
       "    </tr>\n",
       "    <tr>\n",
       "      <th>1</th>\n",
       "      <td>2</td>\n",
       "      <td>microsoft teams will stop working on internet ...</td>\n",
       "      <td>microsoft teams to stop working on internet ex...</td>\n",
       "      <td>[microsoft, teams, will, stop, working, on, in...</td>\n",
       "      <td>[microsoft, teams, to, stop, working, on, inte...</td>\n",
       "    </tr>\n",
       "    <tr>\n",
       "      <th>2</th>\n",
       "      <td>3</td>\n",
       "      <td>china in response to reports of us adding chin...</td>\n",
       "      <td>hope us wont erect barriers to cooperation: ch...</td>\n",
       "      <td>[china, in, response, to, reports, of, us, add...</td>\n",
       "      <td>[hope, us, wont, erect, barriers, to, cooperat...</td>\n",
       "    </tr>\n",
       "    <tr>\n",
       "      <th>3</th>\n",
       "      <td>4</td>\n",
       "      <td>the global smartphone sales in the third quart...</td>\n",
       "      <td>global smartphone sales in q3 falls 57% to 366...</td>\n",
       "      <td>[the, global, smartphone, sales, in, the, thir...</td>\n",
       "      <td>[global, smartphone, sales, in, q3, falls, 57,...</td>\n",
       "    </tr>\n",
       "    <tr>\n",
       "      <th>4</th>\n",
       "      <td>5</td>\n",
       "      <td>the european union (eu) is hoping that us pres...</td>\n",
       "      <td>eu hoping biden will clarify us position on di...</td>\n",
       "      <td>[the, european, union, (, eu, ), is, hoping, t...</td>\n",
       "      <td>[eu, hoping, biden, will, clarify, us, positio...</td>\n",
       "    </tr>\n",
       "    <tr>\n",
       "      <th>5</th>\n",
       "      <td>6</td>\n",
       "      <td>the members of the joint parliamentary committ...</td>\n",
       "      <td>parliamentary panel divided over key issues in...</td>\n",
       "      <td>[the, members, of, the, joint, parliamentary, ...</td>\n",
       "      <td>[parliamentary, panel, divided, over, key, iss...</td>\n",
       "    </tr>\n",
       "    <tr>\n",
       "      <th>6</th>\n",
       "      <td>7</td>\n",
       "      <td>google ceo sundar pichai facebook ceo mark zuc...</td>\n",
       "      <td>google facebook sign french govts tech for goo...</td>\n",
       "      <td>[google, ceo, sundar, pichai, facebook, ceo, m...</td>\n",
       "      <td>[google, facebook, sign, french, govts, tech, ...</td>\n",
       "    </tr>\n",
       "    <tr>\n",
       "      <th>7</th>\n",
       "      <td>8</td>\n",
       "      <td>facebook could soon face the first antitrust a...</td>\n",
       "      <td>facebook could soon face its 1st antitrust sui...</td>\n",
       "      <td>[facebook, could, soon, face, the, first, anti...</td>\n",
       "      <td>[facebook, could, soon, face, its, 1st, antitr...</td>\n",
       "    </tr>\n",
       "    <tr>\n",
       "      <th>8</th>\n",
       "      <td>9</td>\n",
       "      <td>canadas finance department on monday said it p...</td>\n",
       "      <td>canada plans digital tax on tech majors like f...</td>\n",
       "      <td>[canadas, finance, department, on, monday, sai...</td>\n",
       "      <td>[canada, plans, digital, tax, on, tech, majors...</td>\n",
       "    </tr>\n",
       "    <tr>\n",
       "      <th>9</th>\n",
       "      <td>10</td>\n",
       "      <td>twitters audio spaces that will allow users to...</td>\n",
       "      <td>twitters audio spaces to include transcription...</td>\n",
       "      <td>[twitters, audio, spaces, that, will, allow, u...</td>\n",
       "      <td>[twitters, audio, spaces, to, include, transcr...</td>\n",
       "    </tr>\n",
       "    <tr>\n",
       "      <th>10</th>\n",
       "      <td>11</td>\n",
       "      <td>us federal communications commission chairman ...</td>\n",
       "      <td>us fcc chairman ajit pai to step down on janua...</td>\n",
       "      <td>[us, federal, communications, commission, chai...</td>\n",
       "      <td>[us, fcc, chairman, ajit, pai, to, step, down,...</td>\n",
       "    </tr>\n",
       "    <tr>\n",
       "      <th>11</th>\n",
       "      <td>12</td>\n",
       "      <td>tokyo stock exchange (tse) president and ceo k...</td>\n",
       "      <td>tokyo stock exchange ceo to resign over outage...</td>\n",
       "      <td>[tokyo, stock, exchange, (, tse, ), president,...</td>\n",
       "      <td>[tokyo, stock, exchange, ceo, to, resign, over...</td>\n",
       "    </tr>\n",
       "    <tr>\n",
       "      <th>12</th>\n",
       "      <td>13</td>\n",
       "      <td>cryptocurrency bitcoin on monday briefly surge...</td>\n",
       "      <td>bitcoin hits new high at over $19860 surges ov...</td>\n",
       "      <td>[cryptocurrency, bitcoin, on, monday, briefly,...</td>\n",
       "      <td>[bitcoin, hits, new, high, at, over, $, 19860,...</td>\n",
       "    </tr>\n",
       "    <tr>\n",
       "      <th>13</th>\n",
       "      <td>14</td>\n",
       "      <td>jack ma-owned ant groups initial public offeri...</td>\n",
       "      <td>ant groups ipo may not be revived before 2022:...</td>\n",
       "      <td>[jack, ma-owned, ant, groups, initial, public,...</td>\n",
       "      <td>[ant, groups, ipo, may, not, be, revived, befo...</td>\n",
       "    </tr>\n",
       "    <tr>\n",
       "      <th>14</th>\n",
       "      <td>15</td>\n",
       "      <td>italys antitrust body has fined apple $12 mill...</td>\n",
       "      <td>italy fines apple $12m for misleading water-re...</td>\n",
       "      <td>[italys, antitrust, body, has, fined, apple, $...</td>\n",
       "      <td>[italy, fines, apple, $, 12m, for, misleading,...</td>\n",
       "    </tr>\n",
       "    <tr>\n",
       "      <th>15</th>\n",
       "      <td>16</td>\n",
       "      <td>universal studios japan announced its nintendo...</td>\n",
       "      <td>theme park with interactive mario kart rollerc...</td>\n",
       "      <td>[universal, studios, japan, announced, its, ni...</td>\n",
       "      <td>[theme, park, with, interactive, mario, kart, ...</td>\n",
       "    </tr>\n",
       "    <tr>\n",
       "      <th>16</th>\n",
       "      <td>17</td>\n",
       "      <td>general motors (gm) and nikola on monday annou...</td>\n",
       "      <td>general motors to not acquire 11% stake in nikola</td>\n",
       "      <td>[general, motors, (, gm, ), and, nikola, on, m...</td>\n",
       "      <td>[general, motors, to, not, acquire, 11, %, sta...</td>\n",
       "    </tr>\n",
       "    <tr>\n",
       "      <th>17</th>\n",
       "      <td>18</td>\n",
       "      <td>facebook on monday confirmed it has acquired k...</td>\n",
       "      <td>facebook buys customer service startup kustome...</td>\n",
       "      <td>[facebook, on, monday, confirmed, it, has, acq...</td>\n",
       "      <td>[facebook, buys, customer, service, startup, k...</td>\n",
       "    </tr>\n",
       "    <tr>\n",
       "      <th>18</th>\n",
       "      <td>19</td>\n",
       "      <td>a former tesla factory worker has agreed to pa...</td>\n",
       "      <td>ex-tesla factory worker to pay about ₹3 cr to ...</td>\n",
       "      <td>[a, former, tesla, factory, worker, has, agree...</td>\n",
       "      <td>[ex-tesla, factory, worker, to, pay, about, ₹,...</td>\n",
       "    </tr>\n",
       "    <tr>\n",
       "      <th>19</th>\n",
       "      <td>20</td>\n",
       "      <td>swedish telecom company ericsson on monday rai...</td>\n",
       "      <td>global 5g subscriptions to rise to 22 crore by...</td>\n",
       "      <td>[swedish, telecom, company, ericsson, on, mond...</td>\n",
       "      <td>[global, 5g, subscriptions, to, rise, to, 22, ...</td>\n",
       "    </tr>\n",
       "  </tbody>\n",
       "</table>\n",
       "</div>"
      ],
      "text/plain": [
       "    Id                                       news_article  \\\n",
       "0    1  deepminds ai system alphafold has been recogni...   \n",
       "1    2  microsoft teams will stop working on internet ...   \n",
       "2    3  china in response to reports of us adding chin...   \n",
       "3    4  the global smartphone sales in the third quart...   \n",
       "4    5  the european union (eu) is hoping that us pres...   \n",
       "5    6  the members of the joint parliamentary committ...   \n",
       "6    7  google ceo sundar pichai facebook ceo mark zuc...   \n",
       "7    8  facebook could soon face the first antitrust a...   \n",
       "8    9  canadas finance department on monday said it p...   \n",
       "9   10  twitters audio spaces that will allow users to...   \n",
       "10  11  us federal communications commission chairman ...   \n",
       "11  12  tokyo stock exchange (tse) president and ceo k...   \n",
       "12  13  cryptocurrency bitcoin on monday briefly surge...   \n",
       "13  14  jack ma-owned ant groups initial public offeri...   \n",
       "14  15  italys antitrust body has fined apple $12 mill...   \n",
       "15  16  universal studios japan announced its nintendo...   \n",
       "16  17  general motors (gm) and nikola on monday annou...   \n",
       "17  18  facebook on monday confirmed it has acquired k...   \n",
       "18  19  a former tesla factory worker has agreed to pa...   \n",
       "19  20  swedish telecom company ericsson on monday rai...   \n",
       "\n",
       "                                        news_headline  \\\n",
       "0   50-year-old problem of biology solved by artif...   \n",
       "1   microsoft teams to stop working on internet ex...   \n",
       "2   hope us wont erect barriers to cooperation: ch...   \n",
       "3   global smartphone sales in q3 falls 57% to 366...   \n",
       "4   eu hoping biden will clarify us position on di...   \n",
       "5   parliamentary panel divided over key issues in...   \n",
       "6   google facebook sign french govts tech for goo...   \n",
       "7   facebook could soon face its 1st antitrust sui...   \n",
       "8   canada plans digital tax on tech majors like f...   \n",
       "9   twitters audio spaces to include transcription...   \n",
       "10  us fcc chairman ajit pai to step down on janua...   \n",
       "11  tokyo stock exchange ceo to resign over outage...   \n",
       "12  bitcoin hits new high at over $19860 surges ov...   \n",
       "13  ant groups ipo may not be revived before 2022:...   \n",
       "14  italy fines apple $12m for misleading water-re...   \n",
       "15  theme park with interactive mario kart rollerc...   \n",
       "16  general motors to not acquire 11% stake in nikola   \n",
       "17  facebook buys customer service startup kustome...   \n",
       "18  ex-tesla factory worker to pay about ₹3 cr to ...   \n",
       "19  global 5g subscriptions to rise to 22 crore by...   \n",
       "\n",
       "                                       article_tokens  \\\n",
       "0   [deepminds, ai, system, alphafold, has, been, ...   \n",
       "1   [microsoft, teams, will, stop, working, on, in...   \n",
       "2   [china, in, response, to, reports, of, us, add...   \n",
       "3   [the, global, smartphone, sales, in, the, thir...   \n",
       "4   [the, european, union, (, eu, ), is, hoping, t...   \n",
       "5   [the, members, of, the, joint, parliamentary, ...   \n",
       "6   [google, ceo, sundar, pichai, facebook, ceo, m...   \n",
       "7   [facebook, could, soon, face, the, first, anti...   \n",
       "8   [canadas, finance, department, on, monday, sai...   \n",
       "9   [twitters, audio, spaces, that, will, allow, u...   \n",
       "10  [us, federal, communications, commission, chai...   \n",
       "11  [tokyo, stock, exchange, (, tse, ), president,...   \n",
       "12  [cryptocurrency, bitcoin, on, monday, briefly,...   \n",
       "13  [jack, ma-owned, ant, groups, initial, public,...   \n",
       "14  [italys, antitrust, body, has, fined, apple, $...   \n",
       "15  [universal, studios, japan, announced, its, ni...   \n",
       "16  [general, motors, (, gm, ), and, nikola, on, m...   \n",
       "17  [facebook, on, monday, confirmed, it, has, acq...   \n",
       "18  [a, former, tesla, factory, worker, has, agree...   \n",
       "19  [swedish, telecom, company, ericsson, on, mond...   \n",
       "\n",
       "                                      headline_tokens  \n",
       "0   [50, -, year-old, problem, of, biology, solved...  \n",
       "1   [microsoft, teams, to, stop, working, on, inte...  \n",
       "2   [hope, us, wont, erect, barriers, to, cooperat...  \n",
       "3   [global, smartphone, sales, in, q3, falls, 57,...  \n",
       "4   [eu, hoping, biden, will, clarify, us, positio...  \n",
       "5   [parliamentary, panel, divided, over, key, iss...  \n",
       "6   [google, facebook, sign, french, govts, tech, ...  \n",
       "7   [facebook, could, soon, face, its, 1st, antitr...  \n",
       "8   [canada, plans, digital, tax, on, tech, majors...  \n",
       "9   [twitters, audio, spaces, to, include, transcr...  \n",
       "10  [us, fcc, chairman, ajit, pai, to, step, down,...  \n",
       "11  [tokyo, stock, exchange, ceo, to, resign, over...  \n",
       "12  [bitcoin, hits, new, high, at, over, $, 19860,...  \n",
       "13  [ant, groups, ipo, may, not, be, revived, befo...  \n",
       "14  [italy, fines, apple, $, 12m, for, misleading,...  \n",
       "15  [theme, park, with, interactive, mario, kart, ...  \n",
       "16  [general, motors, to, not, acquire, 11, %, sta...  \n",
       "17  [facebook, buys, customer, service, startup, k...  \n",
       "18  [ex-tesla, factory, worker, to, pay, about, ₹,...  \n",
       "19  [global, 5g, subscriptions, to, rise, to, 22, ...  "
      ]
     },
     "execution_count": 8,
     "metadata": {},
     "output_type": "execute_result"
    }
   ],
   "source": [
    "tknzr = TweetTokenizer()\n",
    "df_clean['article_tokens'] = df_clean['news_article'].apply(tknzr.tokenize)\n",
    "df_clean['headline_tokens'] = df_clean['news_headline'].apply(tknzr.tokenize)\n",
    "\n",
    "\n",
    "\n",
    "df_clean_test['article_tokens'] = df_clean_test['news_article'].apply(tknzr.tokenize)\n",
    "df_clean_test['headline_tokens'] = df_clean_test['news_headline'].apply(tknzr.tokenize)\n",
    "\n",
    "\n",
    "\n",
    "df_clean.head(20)"
   ]
  },
  {
   "cell_type": "code",
   "execution_count": 9,
   "metadata": {},
   "outputs": [],
   "source": [
    "lemmatizer = nltk.stem.WordNetLemmatizer()\n",
    "def lemmatize_text(text):\n",
    "    return [(lemmatizer.lemmatize(w)) for w in text]"
   ]
  },
  {
   "cell_type": "code",
   "execution_count": 10,
   "metadata": {},
   "outputs": [
    {
     "data": {
      "text/html": [
       "<div>\n",
       "<style scoped>\n",
       "    .dataframe tbody tr th:only-of-type {\n",
       "        vertical-align: middle;\n",
       "    }\n",
       "\n",
       "    .dataframe tbody tr th {\n",
       "        vertical-align: top;\n",
       "    }\n",
       "\n",
       "    .dataframe thead th {\n",
       "        text-align: right;\n",
       "    }\n",
       "</style>\n",
       "<table border=\"1\" class=\"dataframe\">\n",
       "  <thead>\n",
       "    <tr style=\"text-align: right;\">\n",
       "      <th></th>\n",
       "      <th>article_tokens</th>\n",
       "      <th>lemmatized_article_tokens</th>\n",
       "      <th>headline_tokens</th>\n",
       "      <th>lemmatized_headline_tokens</th>\n",
       "    </tr>\n",
       "  </thead>\n",
       "  <tbody>\n",
       "    <tr>\n",
       "      <th>0</th>\n",
       "      <td>[deepminds, ai, system, alphafold, has, been, ...</td>\n",
       "      <td>[deepminds, ai, system, alphafold, ha, been, r...</td>\n",
       "      <td>[50, -, year-old, problem, of, biology, solved...</td>\n",
       "      <td>[50, -, year-old, problem, of, biology, solved...</td>\n",
       "    </tr>\n",
       "    <tr>\n",
       "      <th>1</th>\n",
       "      <td>[microsoft, teams, will, stop, working, on, in...</td>\n",
       "      <td>[microsoft, team, will, stop, working, on, int...</td>\n",
       "      <td>[microsoft, teams, to, stop, working, on, inte...</td>\n",
       "      <td>[microsoft, team, to, stop, working, on, inter...</td>\n",
       "    </tr>\n",
       "    <tr>\n",
       "      <th>2</th>\n",
       "      <td>[china, in, response, to, reports, of, us, add...</td>\n",
       "      <td>[china, in, response, to, report, of, u, addin...</td>\n",
       "      <td>[hope, us, wont, erect, barriers, to, cooperat...</td>\n",
       "      <td>[hope, u, wont, erect, barrier, to, cooperatio...</td>\n",
       "    </tr>\n",
       "    <tr>\n",
       "      <th>3</th>\n",
       "      <td>[the, global, smartphone, sales, in, the, thir...</td>\n",
       "      <td>[the, global, smartphone, sale, in, the, third...</td>\n",
       "      <td>[global, smartphone, sales, in, q3, falls, 57,...</td>\n",
       "      <td>[global, smartphone, sale, in, q3, fall, 57, %...</td>\n",
       "    </tr>\n",
       "    <tr>\n",
       "      <th>4</th>\n",
       "      <td>[the, european, union, (, eu, ), is, hoping, t...</td>\n",
       "      <td>[the, european, union, (, eu, ), is, hoping, t...</td>\n",
       "      <td>[eu, hoping, biden, will, clarify, us, positio...</td>\n",
       "      <td>[eu, hoping, biden, will, clarify, u, position...</td>\n",
       "    </tr>\n",
       "    <tr>\n",
       "      <th>5</th>\n",
       "      <td>[the, members, of, the, joint, parliamentary, ...</td>\n",
       "      <td>[the, member, of, the, joint, parliamentary, c...</td>\n",
       "      <td>[parliamentary, panel, divided, over, key, iss...</td>\n",
       "      <td>[parliamentary, panel, divided, over, key, iss...</td>\n",
       "    </tr>\n",
       "    <tr>\n",
       "      <th>6</th>\n",
       "      <td>[google, ceo, sundar, pichai, facebook, ceo, m...</td>\n",
       "      <td>[google, ceo, sundar, pichai, facebook, ceo, m...</td>\n",
       "      <td>[google, facebook, sign, french, govts, tech, ...</td>\n",
       "      <td>[google, facebook, sign, french, govts, tech, ...</td>\n",
       "    </tr>\n",
       "    <tr>\n",
       "      <th>7</th>\n",
       "      <td>[facebook, could, soon, face, the, first, anti...</td>\n",
       "      <td>[facebook, could, soon, face, the, first, anti...</td>\n",
       "      <td>[facebook, could, soon, face, its, 1st, antitr...</td>\n",
       "      <td>[facebook, could, soon, face, it, 1st, antitru...</td>\n",
       "    </tr>\n",
       "    <tr>\n",
       "      <th>8</th>\n",
       "      <td>[canadas, finance, department, on, monday, sai...</td>\n",
       "      <td>[canada, finance, department, on, monday, said...</td>\n",
       "      <td>[canada, plans, digital, tax, on, tech, majors...</td>\n",
       "      <td>[canada, plan, digital, tax, on, tech, major, ...</td>\n",
       "    </tr>\n",
       "    <tr>\n",
       "      <th>9</th>\n",
       "      <td>[twitters, audio, spaces, that, will, allow, u...</td>\n",
       "      <td>[twitter, audio, space, that, will, allow, use...</td>\n",
       "      <td>[twitters, audio, spaces, to, include, transcr...</td>\n",
       "      <td>[twitter, audio, space, to, include, transcrip...</td>\n",
       "    </tr>\n",
       "    <tr>\n",
       "      <th>10</th>\n",
       "      <td>[us, federal, communications, commission, chai...</td>\n",
       "      <td>[u, federal, communication, commission, chairm...</td>\n",
       "      <td>[us, fcc, chairman, ajit, pai, to, step, down,...</td>\n",
       "      <td>[u, fcc, chairman, ajit, pai, to, step, down, ...</td>\n",
       "    </tr>\n",
       "    <tr>\n",
       "      <th>11</th>\n",
       "      <td>[tokyo, stock, exchange, (, tse, ), president,...</td>\n",
       "      <td>[tokyo, stock, exchange, (, tse, ), president,...</td>\n",
       "      <td>[tokyo, stock, exchange, ceo, to, resign, over...</td>\n",
       "      <td>[tokyo, stock, exchange, ceo, to, resign, over...</td>\n",
       "    </tr>\n",
       "    <tr>\n",
       "      <th>12</th>\n",
       "      <td>[cryptocurrency, bitcoin, on, monday, briefly,...</td>\n",
       "      <td>[cryptocurrency, bitcoin, on, monday, briefly,...</td>\n",
       "      <td>[bitcoin, hits, new, high, at, over, $, 19860,...</td>\n",
       "      <td>[bitcoin, hit, new, high, at, over, $, 19860, ...</td>\n",
       "    </tr>\n",
       "    <tr>\n",
       "      <th>13</th>\n",
       "      <td>[jack, ma-owned, ant, groups, initial, public,...</td>\n",
       "      <td>[jack, ma-owned, ant, group, initial, public, ...</td>\n",
       "      <td>[ant, groups, ipo, may, not, be, revived, befo...</td>\n",
       "      <td>[ant, group, ipo, may, not, be, revived, befor...</td>\n",
       "    </tr>\n",
       "    <tr>\n",
       "      <th>14</th>\n",
       "      <td>[italys, antitrust, body, has, fined, apple, $...</td>\n",
       "      <td>[italy, antitrust, body, ha, fined, apple, $, ...</td>\n",
       "      <td>[italy, fines, apple, $, 12m, for, misleading,...</td>\n",
       "      <td>[italy, fine, apple, $, 12m, for, misleading, ...</td>\n",
       "    </tr>\n",
       "    <tr>\n",
       "      <th>15</th>\n",
       "      <td>[universal, studios, japan, announced, its, ni...</td>\n",
       "      <td>[universal, studio, japan, announced, it, nint...</td>\n",
       "      <td>[theme, park, with, interactive, mario, kart, ...</td>\n",
       "      <td>[theme, park, with, interactive, mario, kart, ...</td>\n",
       "    </tr>\n",
       "    <tr>\n",
       "      <th>16</th>\n",
       "      <td>[general, motors, (, gm, ), and, nikola, on, m...</td>\n",
       "      <td>[general, motor, (, gm, ), and, nikola, on, mo...</td>\n",
       "      <td>[general, motors, to, not, acquire, 11, %, sta...</td>\n",
       "      <td>[general, motor, to, not, acquire, 11, %, stak...</td>\n",
       "    </tr>\n",
       "    <tr>\n",
       "      <th>17</th>\n",
       "      <td>[facebook, on, monday, confirmed, it, has, acq...</td>\n",
       "      <td>[facebook, on, monday, confirmed, it, ha, acqu...</td>\n",
       "      <td>[facebook, buys, customer, service, startup, k...</td>\n",
       "      <td>[facebook, buy, customer, service, startup, ku...</td>\n",
       "    </tr>\n",
       "    <tr>\n",
       "      <th>18</th>\n",
       "      <td>[a, former, tesla, factory, worker, has, agree...</td>\n",
       "      <td>[a, former, tesla, factory, worker, ha, agreed...</td>\n",
       "      <td>[ex-tesla, factory, worker, to, pay, about, ₹,...</td>\n",
       "      <td>[ex-tesla, factory, worker, to, pay, about, ₹,...</td>\n",
       "    </tr>\n",
       "    <tr>\n",
       "      <th>19</th>\n",
       "      <td>[swedish, telecom, company, ericsson, on, mond...</td>\n",
       "      <td>[swedish, telecom, company, ericsson, on, mond...</td>\n",
       "      <td>[global, 5g, subscriptions, to, rise, to, 22, ...</td>\n",
       "      <td>[global, 5g, subscription, to, rise, to, 22, c...</td>\n",
       "    </tr>\n",
       "  </tbody>\n",
       "</table>\n",
       "</div>"
      ],
      "text/plain": [
       "                                       article_tokens  \\\n",
       "0   [deepminds, ai, system, alphafold, has, been, ...   \n",
       "1   [microsoft, teams, will, stop, working, on, in...   \n",
       "2   [china, in, response, to, reports, of, us, add...   \n",
       "3   [the, global, smartphone, sales, in, the, thir...   \n",
       "4   [the, european, union, (, eu, ), is, hoping, t...   \n",
       "5   [the, members, of, the, joint, parliamentary, ...   \n",
       "6   [google, ceo, sundar, pichai, facebook, ceo, m...   \n",
       "7   [facebook, could, soon, face, the, first, anti...   \n",
       "8   [canadas, finance, department, on, monday, sai...   \n",
       "9   [twitters, audio, spaces, that, will, allow, u...   \n",
       "10  [us, federal, communications, commission, chai...   \n",
       "11  [tokyo, stock, exchange, (, tse, ), president,...   \n",
       "12  [cryptocurrency, bitcoin, on, monday, briefly,...   \n",
       "13  [jack, ma-owned, ant, groups, initial, public,...   \n",
       "14  [italys, antitrust, body, has, fined, apple, $...   \n",
       "15  [universal, studios, japan, announced, its, ni...   \n",
       "16  [general, motors, (, gm, ), and, nikola, on, m...   \n",
       "17  [facebook, on, monday, confirmed, it, has, acq...   \n",
       "18  [a, former, tesla, factory, worker, has, agree...   \n",
       "19  [swedish, telecom, company, ericsson, on, mond...   \n",
       "\n",
       "                            lemmatized_article_tokens  \\\n",
       "0   [deepminds, ai, system, alphafold, ha, been, r...   \n",
       "1   [microsoft, team, will, stop, working, on, int...   \n",
       "2   [china, in, response, to, report, of, u, addin...   \n",
       "3   [the, global, smartphone, sale, in, the, third...   \n",
       "4   [the, european, union, (, eu, ), is, hoping, t...   \n",
       "5   [the, member, of, the, joint, parliamentary, c...   \n",
       "6   [google, ceo, sundar, pichai, facebook, ceo, m...   \n",
       "7   [facebook, could, soon, face, the, first, anti...   \n",
       "8   [canada, finance, department, on, monday, said...   \n",
       "9   [twitter, audio, space, that, will, allow, use...   \n",
       "10  [u, federal, communication, commission, chairm...   \n",
       "11  [tokyo, stock, exchange, (, tse, ), president,...   \n",
       "12  [cryptocurrency, bitcoin, on, monday, briefly,...   \n",
       "13  [jack, ma-owned, ant, group, initial, public, ...   \n",
       "14  [italy, antitrust, body, ha, fined, apple, $, ...   \n",
       "15  [universal, studio, japan, announced, it, nint...   \n",
       "16  [general, motor, (, gm, ), and, nikola, on, mo...   \n",
       "17  [facebook, on, monday, confirmed, it, ha, acqu...   \n",
       "18  [a, former, tesla, factory, worker, ha, agreed...   \n",
       "19  [swedish, telecom, company, ericsson, on, mond...   \n",
       "\n",
       "                                      headline_tokens  \\\n",
       "0   [50, -, year-old, problem, of, biology, solved...   \n",
       "1   [microsoft, teams, to, stop, working, on, inte...   \n",
       "2   [hope, us, wont, erect, barriers, to, cooperat...   \n",
       "3   [global, smartphone, sales, in, q3, falls, 57,...   \n",
       "4   [eu, hoping, biden, will, clarify, us, positio...   \n",
       "5   [parliamentary, panel, divided, over, key, iss...   \n",
       "6   [google, facebook, sign, french, govts, tech, ...   \n",
       "7   [facebook, could, soon, face, its, 1st, antitr...   \n",
       "8   [canada, plans, digital, tax, on, tech, majors...   \n",
       "9   [twitters, audio, spaces, to, include, transcr...   \n",
       "10  [us, fcc, chairman, ajit, pai, to, step, down,...   \n",
       "11  [tokyo, stock, exchange, ceo, to, resign, over...   \n",
       "12  [bitcoin, hits, new, high, at, over, $, 19860,...   \n",
       "13  [ant, groups, ipo, may, not, be, revived, befo...   \n",
       "14  [italy, fines, apple, $, 12m, for, misleading,...   \n",
       "15  [theme, park, with, interactive, mario, kart, ...   \n",
       "16  [general, motors, to, not, acquire, 11, %, sta...   \n",
       "17  [facebook, buys, customer, service, startup, k...   \n",
       "18  [ex-tesla, factory, worker, to, pay, about, ₹,...   \n",
       "19  [global, 5g, subscriptions, to, rise, to, 22, ...   \n",
       "\n",
       "                           lemmatized_headline_tokens  \n",
       "0   [50, -, year-old, problem, of, biology, solved...  \n",
       "1   [microsoft, team, to, stop, working, on, inter...  \n",
       "2   [hope, u, wont, erect, barrier, to, cooperatio...  \n",
       "3   [global, smartphone, sale, in, q3, fall, 57, %...  \n",
       "4   [eu, hoping, biden, will, clarify, u, position...  \n",
       "5   [parliamentary, panel, divided, over, key, iss...  \n",
       "6   [google, facebook, sign, french, govts, tech, ...  \n",
       "7   [facebook, could, soon, face, it, 1st, antitru...  \n",
       "8   [canada, plan, digital, tax, on, tech, major, ...  \n",
       "9   [twitter, audio, space, to, include, transcrip...  \n",
       "10  [u, fcc, chairman, ajit, pai, to, step, down, ...  \n",
       "11  [tokyo, stock, exchange, ceo, to, resign, over...  \n",
       "12  [bitcoin, hit, new, high, at, over, $, 19860, ...  \n",
       "13  [ant, group, ipo, may, not, be, revived, befor...  \n",
       "14  [italy, fine, apple, $, 12m, for, misleading, ...  \n",
       "15  [theme, park, with, interactive, mario, kart, ...  \n",
       "16  [general, motor, to, not, acquire, 11, %, stak...  \n",
       "17  [facebook, buy, customer, service, startup, ku...  \n",
       "18  [ex-tesla, factory, worker, to, pay, about, ₹,...  \n",
       "19  [global, 5g, subscription, to, rise, to, 22, c...  "
      ]
     },
     "execution_count": 10,
     "metadata": {},
     "output_type": "execute_result"
    }
   ],
   "source": [
    "df_clean['lemmatized_article_tokens'] = df_clean['article_tokens'].apply(lemmatize_text)\n",
    "df_clean['lemmatized_headline_tokens'] = df_clean['headline_tokens'].apply(lemmatize_text)\n",
    "\n",
    "df_clean_test['lemmatized_article_tokens'] = df_clean_test['article_tokens'].apply(lemmatize_text)\n",
    "df_clean_test['lemmatized_headline_tokens'] = df_clean_test['headline_tokens'].apply(lemmatize_text)\n",
    "\n",
    "\n",
    "\n",
    "df_clean[['article_tokens','lemmatized_article_tokens','headline_tokens','lemmatized_headline_tokens']].head(20)"
   ]
  },
  {
   "cell_type": "code",
   "execution_count": 11,
   "metadata": {},
   "outputs": [],
   "source": [
    "stop_words = set(stopwords.words('english'))\n",
    "df_clean['article_final_tokens'] = df_clean['lemmatized_article_tokens'].apply(lambda x: [item for item in x if item not in stop_words])\n",
    "df_clean['headline_final_tokens'] = df_clean['lemmatized_headline_tokens'].apply(lambda x: [item for item in x if item not in stop_words])\n",
    "\n",
    "\n",
    "\n",
    "\n",
    "df_clean_test['article_final_tokens'] = df_clean_test['lemmatized_article_tokens'].apply(lambda x: [item for item in x if item not in stop_words])\n",
    "df_clean_test['headline_final_tokens'] = df_clean_test['lemmatized_headline_tokens'].apply(lambda x: [item for item in x if item not in stop_words])"
   ]
  },
  {
   "cell_type": "code",
   "execution_count": 12,
   "metadata": {},
   "outputs": [],
   "source": [
    "processed_docs = df_clean['article_final_tokens']\n",
    "processed_docs_test = df_clean_test['article_final_tokens']\n",
    "training_data = processed_docs[:]\n",
    "testing_data = processed_docs_test[:]"
   ]
  },
  {
   "cell_type": "code",
   "execution_count": 13,
   "metadata": {},
   "outputs": [
    {
     "name": "stdout",
     "output_type": "stream",
     "text": [
      "0 3d\n",
      "1 50\n",
      "2 ai\n",
      "3 alphafold\n",
      "4 atom\n",
      "5 biological\n",
      "6 biology\n",
      "7 challenge\n",
      "8 complex\n",
      "9 deepmind\n",
      "10 deepminds\n"
     ]
    }
   ],
   "source": [
    "dictionary = gensim.corpora.Dictionary(training_data)\n",
    "count = 0\n",
    "for k, v in dictionary.iteritems():\n",
    "    print(k, v)\n",
    "    count += 1\n",
    "    if count > 10:\n",
    "        break"
   ]
  },
  {
   "cell_type": "code",
   "execution_count": 14,
   "metadata": {},
   "outputs": [],
   "source": [
    "dictionary.filter_extremes(no_below=15, no_above=0.1, keep_n= 100000)\n",
    "bow_corpus_training = [dictionary.doc2bow(doc) for doc in training_data]\n",
    "bow_corpus_testing = [dictionary.doc2bow(doc) for doc in testing_data]"
   ]
  },
  {
   "cell_type": "code",
   "execution_count": 15,
   "metadata": {},
   "outputs": [],
   "source": [
    "df_clean['news_headline_word_cloud'] =df_clean['headline_final_tokens'].apply(lambda x: ' '.join([w for w in x if len(w)>3]))"
   ]
  },
  {
   "cell_type": "code",
   "execution_count": 16,
   "metadata": {
    "scrolled": false
   },
   "outputs": [
    {
     "data": {
      "application/vnd.plotly.v1+json": {
       "config": {
        "linkText": "Export to plot.ly",
        "plotlyServerURL": "https://plot.ly",
        "showLink": false
       },
       "data": [
        {
         "marker": {
          "color": [
           199,
           198,
           191,
           147,
           143,
           139,
           117,
           109,
           108,
           106,
           100,
           98,
           96,
           92,
           90,
           89,
           85,
           84,
           83,
           82,
           81,
           81,
           77,
           76,
           75,
           75,
           72,
           71,
           69,
           67,
           66,
           64,
           63,
           63,
           63,
           63,
           62,
           62,
           60,
           58,
           58,
           58,
           58,
           57,
           57,
           57,
           56,
           53,
           53,
           53,
           52,
           52,
           52,
           52,
           52,
           52,
           51,
           51,
           51,
           51,
           49,
           49,
           47,
           47,
           45,
           44,
           44,
           44,
           44,
           44,
           44,
           44,
           44,
           43,
           42,
           42,
           41,
           41,
           41,
           41,
           41,
           41,
           40,
           40,
           40,
           40,
           40,
           40,
           40,
           39,
           39,
           39,
           39,
           39,
           38,
           38,
           37,
           37
          ],
          "colorscale": [
           [
            0,
            "rgb(0,0,131)"
           ],
           [
            0.2,
            "rgb(0,60,170)"
           ],
           [
            0.4,
            "rgb(5,255,255)"
           ],
           [
            0.6,
            "rgb(255,255,0)"
           ],
           [
            0.8,
            "rgb(250,0,0)"
           ],
           [
            1,
            "rgb(128,0,0)"
           ]
          ]
         },
         "text": "Word counts",
         "type": "bar",
         "x": [
          "report",
          "test",
          "vaccine",
          "china",
          "video",
          "share",
          "world",
          "time",
          "team",
          "farmer",
          "tesla",
          "trump",
          "woman",
          "kohli",
          "2020",
          "poll",
          "govt",
          "protest",
          "people",
          "year",
          "facebook",
          "surface",
          "first",
          "film",
          "like",
          "google",
          "musk",
          "launch",
          "call",
          "match",
          "viral",
          "australia",
          "chief",
          "biden",
          "case",
          "death",
          "take",
          "twitter",
          "bihar",
          "play",
          "found",
          "becomes",
          "actor",
          "delhi",
          "indian",
          "record",
          "leader",
          "vote"
         ],
         "y": [
          199,
          198,
          191,
          147,
          143,
          139,
          117,
          109,
          108,
          106,
          100,
          98,
          96,
          92,
          90,
          89,
          85,
          84,
          83,
          82,
          81,
          81,
          77,
          76,
          75,
          75,
          72,
          71,
          69,
          67,
          66,
          64,
          63,
          63,
          63,
          63,
          62,
          62,
          60,
          58,
          58,
          58,
          58,
          57,
          57,
          57,
          56,
          53
         ]
        }
       ],
       "layout": {
        "template": {
         "data": {
          "bar": [
           {
            "error_x": {
             "color": "#2a3f5f"
            },
            "error_y": {
             "color": "#2a3f5f"
            },
            "marker": {
             "line": {
              "color": "#E5ECF6",
              "width": 0.5
             }
            },
            "type": "bar"
           }
          ],
          "barpolar": [
           {
            "marker": {
             "line": {
              "color": "#E5ECF6",
              "width": 0.5
             }
            },
            "type": "barpolar"
           }
          ],
          "carpet": [
           {
            "aaxis": {
             "endlinecolor": "#2a3f5f",
             "gridcolor": "white",
             "linecolor": "white",
             "minorgridcolor": "white",
             "startlinecolor": "#2a3f5f"
            },
            "baxis": {
             "endlinecolor": "#2a3f5f",
             "gridcolor": "white",
             "linecolor": "white",
             "minorgridcolor": "white",
             "startlinecolor": "#2a3f5f"
            },
            "type": "carpet"
           }
          ],
          "choropleth": [
           {
            "colorbar": {
             "outlinewidth": 0,
             "ticks": ""
            },
            "type": "choropleth"
           }
          ],
          "contour": [
           {
            "colorbar": {
             "outlinewidth": 0,
             "ticks": ""
            },
            "colorscale": [
             [
              0,
              "#0d0887"
             ],
             [
              0.1111111111111111,
              "#46039f"
             ],
             [
              0.2222222222222222,
              "#7201a8"
             ],
             [
              0.3333333333333333,
              "#9c179e"
             ],
             [
              0.4444444444444444,
              "#bd3786"
             ],
             [
              0.5555555555555556,
              "#d8576b"
             ],
             [
              0.6666666666666666,
              "#ed7953"
             ],
             [
              0.7777777777777778,
              "#fb9f3a"
             ],
             [
              0.8888888888888888,
              "#fdca26"
             ],
             [
              1,
              "#f0f921"
             ]
            ],
            "type": "contour"
           }
          ],
          "contourcarpet": [
           {
            "colorbar": {
             "outlinewidth": 0,
             "ticks": ""
            },
            "type": "contourcarpet"
           }
          ],
          "heatmap": [
           {
            "colorbar": {
             "outlinewidth": 0,
             "ticks": ""
            },
            "colorscale": [
             [
              0,
              "#0d0887"
             ],
             [
              0.1111111111111111,
              "#46039f"
             ],
             [
              0.2222222222222222,
              "#7201a8"
             ],
             [
              0.3333333333333333,
              "#9c179e"
             ],
             [
              0.4444444444444444,
              "#bd3786"
             ],
             [
              0.5555555555555556,
              "#d8576b"
             ],
             [
              0.6666666666666666,
              "#ed7953"
             ],
             [
              0.7777777777777778,
              "#fb9f3a"
             ],
             [
              0.8888888888888888,
              "#fdca26"
             ],
             [
              1,
              "#f0f921"
             ]
            ],
            "type": "heatmap"
           }
          ],
          "heatmapgl": [
           {
            "colorbar": {
             "outlinewidth": 0,
             "ticks": ""
            },
            "colorscale": [
             [
              0,
              "#0d0887"
             ],
             [
              0.1111111111111111,
              "#46039f"
             ],
             [
              0.2222222222222222,
              "#7201a8"
             ],
             [
              0.3333333333333333,
              "#9c179e"
             ],
             [
              0.4444444444444444,
              "#bd3786"
             ],
             [
              0.5555555555555556,
              "#d8576b"
             ],
             [
              0.6666666666666666,
              "#ed7953"
             ],
             [
              0.7777777777777778,
              "#fb9f3a"
             ],
             [
              0.8888888888888888,
              "#fdca26"
             ],
             [
              1,
              "#f0f921"
             ]
            ],
            "type": "heatmapgl"
           }
          ],
          "histogram": [
           {
            "marker": {
             "colorbar": {
              "outlinewidth": 0,
              "ticks": ""
             }
            },
            "type": "histogram"
           }
          ],
          "histogram2d": [
           {
            "colorbar": {
             "outlinewidth": 0,
             "ticks": ""
            },
            "colorscale": [
             [
              0,
              "#0d0887"
             ],
             [
              0.1111111111111111,
              "#46039f"
             ],
             [
              0.2222222222222222,
              "#7201a8"
             ],
             [
              0.3333333333333333,
              "#9c179e"
             ],
             [
              0.4444444444444444,
              "#bd3786"
             ],
             [
              0.5555555555555556,
              "#d8576b"
             ],
             [
              0.6666666666666666,
              "#ed7953"
             ],
             [
              0.7777777777777778,
              "#fb9f3a"
             ],
             [
              0.8888888888888888,
              "#fdca26"
             ],
             [
              1,
              "#f0f921"
             ]
            ],
            "type": "histogram2d"
           }
          ],
          "histogram2dcontour": [
           {
            "colorbar": {
             "outlinewidth": 0,
             "ticks": ""
            },
            "colorscale": [
             [
              0,
              "#0d0887"
             ],
             [
              0.1111111111111111,
              "#46039f"
             ],
             [
              0.2222222222222222,
              "#7201a8"
             ],
             [
              0.3333333333333333,
              "#9c179e"
             ],
             [
              0.4444444444444444,
              "#bd3786"
             ],
             [
              0.5555555555555556,
              "#d8576b"
             ],
             [
              0.6666666666666666,
              "#ed7953"
             ],
             [
              0.7777777777777778,
              "#fb9f3a"
             ],
             [
              0.8888888888888888,
              "#fdca26"
             ],
             [
              1,
              "#f0f921"
             ]
            ],
            "type": "histogram2dcontour"
           }
          ],
          "mesh3d": [
           {
            "colorbar": {
             "outlinewidth": 0,
             "ticks": ""
            },
            "type": "mesh3d"
           }
          ],
          "parcoords": [
           {
            "line": {
             "colorbar": {
              "outlinewidth": 0,
              "ticks": ""
             }
            },
            "type": "parcoords"
           }
          ],
          "pie": [
           {
            "automargin": true,
            "type": "pie"
           }
          ],
          "scatter": [
           {
            "marker": {
             "colorbar": {
              "outlinewidth": 0,
              "ticks": ""
             }
            },
            "type": "scatter"
           }
          ],
          "scatter3d": [
           {
            "line": {
             "colorbar": {
              "outlinewidth": 0,
              "ticks": ""
             }
            },
            "marker": {
             "colorbar": {
              "outlinewidth": 0,
              "ticks": ""
             }
            },
            "type": "scatter3d"
           }
          ],
          "scattercarpet": [
           {
            "marker": {
             "colorbar": {
              "outlinewidth": 0,
              "ticks": ""
             }
            },
            "type": "scattercarpet"
           }
          ],
          "scattergeo": [
           {
            "marker": {
             "colorbar": {
              "outlinewidth": 0,
              "ticks": ""
             }
            },
            "type": "scattergeo"
           }
          ],
          "scattergl": [
           {
            "marker": {
             "colorbar": {
              "outlinewidth": 0,
              "ticks": ""
             }
            },
            "type": "scattergl"
           }
          ],
          "scattermapbox": [
           {
            "marker": {
             "colorbar": {
              "outlinewidth": 0,
              "ticks": ""
             }
            },
            "type": "scattermapbox"
           }
          ],
          "scatterpolar": [
           {
            "marker": {
             "colorbar": {
              "outlinewidth": 0,
              "ticks": ""
             }
            },
            "type": "scatterpolar"
           }
          ],
          "scatterpolargl": [
           {
            "marker": {
             "colorbar": {
              "outlinewidth": 0,
              "ticks": ""
             }
            },
            "type": "scatterpolargl"
           }
          ],
          "scatterternary": [
           {
            "marker": {
             "colorbar": {
              "outlinewidth": 0,
              "ticks": ""
             }
            },
            "type": "scatterternary"
           }
          ],
          "surface": [
           {
            "colorbar": {
             "outlinewidth": 0,
             "ticks": ""
            },
            "colorscale": [
             [
              0,
              "#0d0887"
             ],
             [
              0.1111111111111111,
              "#46039f"
             ],
             [
              0.2222222222222222,
              "#7201a8"
             ],
             [
              0.3333333333333333,
              "#9c179e"
             ],
             [
              0.4444444444444444,
              "#bd3786"
             ],
             [
              0.5555555555555556,
              "#d8576b"
             ],
             [
              0.6666666666666666,
              "#ed7953"
             ],
             [
              0.7777777777777778,
              "#fb9f3a"
             ],
             [
              0.8888888888888888,
              "#fdca26"
             ],
             [
              1,
              "#f0f921"
             ]
            ],
            "type": "surface"
           }
          ],
          "table": [
           {
            "cells": {
             "fill": {
              "color": "#EBF0F8"
             },
             "line": {
              "color": "white"
             }
            },
            "header": {
             "fill": {
              "color": "#C8D4E3"
             },
             "line": {
              "color": "white"
             }
            },
            "type": "table"
           }
          ]
         },
         "layout": {
          "annotationdefaults": {
           "arrowcolor": "#2a3f5f",
           "arrowhead": 0,
           "arrowwidth": 1
          },
          "autotypenumbers": "strict",
          "coloraxis": {
           "colorbar": {
            "outlinewidth": 0,
            "ticks": ""
           }
          },
          "colorscale": {
           "diverging": [
            [
             0,
             "#8e0152"
            ],
            [
             0.1,
             "#c51b7d"
            ],
            [
             0.2,
             "#de77ae"
            ],
            [
             0.3,
             "#f1b6da"
            ],
            [
             0.4,
             "#fde0ef"
            ],
            [
             0.5,
             "#f7f7f7"
            ],
            [
             0.6,
             "#e6f5d0"
            ],
            [
             0.7,
             "#b8e186"
            ],
            [
             0.8,
             "#7fbc41"
            ],
            [
             0.9,
             "#4d9221"
            ],
            [
             1,
             "#276419"
            ]
           ],
           "sequential": [
            [
             0,
             "#0d0887"
            ],
            [
             0.1111111111111111,
             "#46039f"
            ],
            [
             0.2222222222222222,
             "#7201a8"
            ],
            [
             0.3333333333333333,
             "#9c179e"
            ],
            [
             0.4444444444444444,
             "#bd3786"
            ],
            [
             0.5555555555555556,
             "#d8576b"
            ],
            [
             0.6666666666666666,
             "#ed7953"
            ],
            [
             0.7777777777777778,
             "#fb9f3a"
            ],
            [
             0.8888888888888888,
             "#fdca26"
            ],
            [
             1,
             "#f0f921"
            ]
           ],
           "sequentialminus": [
            [
             0,
             "#0d0887"
            ],
            [
             0.1111111111111111,
             "#46039f"
            ],
            [
             0.2222222222222222,
             "#7201a8"
            ],
            [
             0.3333333333333333,
             "#9c179e"
            ],
            [
             0.4444444444444444,
             "#bd3786"
            ],
            [
             0.5555555555555556,
             "#d8576b"
            ],
            [
             0.6666666666666666,
             "#ed7953"
            ],
            [
             0.7777777777777778,
             "#fb9f3a"
            ],
            [
             0.8888888888888888,
             "#fdca26"
            ],
            [
             1,
             "#f0f921"
            ]
           ]
          },
          "colorway": [
           "#636efa",
           "#EF553B",
           "#00cc96",
           "#ab63fa",
           "#FFA15A",
           "#19d3f3",
           "#FF6692",
           "#B6E880",
           "#FF97FF",
           "#FECB52"
          ],
          "font": {
           "color": "#2a3f5f"
          },
          "geo": {
           "bgcolor": "white",
           "lakecolor": "white",
           "landcolor": "#E5ECF6",
           "showlakes": true,
           "showland": true,
           "subunitcolor": "white"
          },
          "hoverlabel": {
           "align": "left"
          },
          "hovermode": "closest",
          "mapbox": {
           "style": "light"
          },
          "paper_bgcolor": "white",
          "plot_bgcolor": "#E5ECF6",
          "polar": {
           "angularaxis": {
            "gridcolor": "white",
            "linecolor": "white",
            "ticks": ""
           },
           "bgcolor": "#E5ECF6",
           "radialaxis": {
            "gridcolor": "white",
            "linecolor": "white",
            "ticks": ""
           }
          },
          "scene": {
           "xaxis": {
            "backgroundcolor": "#E5ECF6",
            "gridcolor": "white",
            "gridwidth": 2,
            "linecolor": "white",
            "showbackground": true,
            "ticks": "",
            "zerolinecolor": "white"
           },
           "yaxis": {
            "backgroundcolor": "#E5ECF6",
            "gridcolor": "white",
            "gridwidth": 2,
            "linecolor": "white",
            "showbackground": true,
            "ticks": "",
            "zerolinecolor": "white"
           },
           "zaxis": {
            "backgroundcolor": "#E5ECF6",
            "gridcolor": "white",
            "gridwidth": 2,
            "linecolor": "white",
            "showbackground": true,
            "ticks": "",
            "zerolinecolor": "white"
           }
          },
          "shapedefaults": {
           "line": {
            "color": "#2a3f5f"
           }
          },
          "ternary": {
           "aaxis": {
            "gridcolor": "white",
            "linecolor": "white",
            "ticks": ""
           },
           "baxis": {
            "gridcolor": "white",
            "linecolor": "white",
            "ticks": ""
           },
           "bgcolor": "#E5ECF6",
           "caxis": {
            "gridcolor": "white",
            "linecolor": "white",
            "ticks": ""
           }
          },
          "title": {
           "x": 0.05
          },
          "xaxis": {
           "automargin": true,
           "gridcolor": "white",
           "linecolor": "white",
           "ticks": "",
           "title": {
            "standoff": 15
           },
           "zerolinecolor": "white",
           "zerolinewidth": 2
          },
          "yaxis": {
           "automargin": true,
           "gridcolor": "white",
           "linecolor": "white",
           "ticks": "",
           "title": {
            "standoff": 15
           },
           "zerolinecolor": "white",
           "zerolinewidth": 2
          }
         }
        },
        "title": {
         "text": "Top 50 (cleaned) Word frequencies in dataset"
        }
       }
      },
      "text/html": [
       "<div>                            <div id=\"2b06660d-bfa4-4653-a78a-7e336b53f172\" class=\"plotly-graph-div\" style=\"height:525px; width:100%;\"></div>            <script type=\"text/javascript\">                require([\"plotly\"], function(Plotly) {                    window.PLOTLYENV=window.PLOTLYENV || {};                                    if (document.getElementById(\"2b06660d-bfa4-4653-a78a-7e336b53f172\")) {                    Plotly.newPlot(                        \"2b06660d-bfa4-4653-a78a-7e336b53f172\",                        [{\"marker\": {\"color\": [199, 198, 191, 147, 143, 139, 117, 109, 108, 106, 100, 98, 96, 92, 90, 89, 85, 84, 83, 82, 81, 81, 77, 76, 75, 75, 72, 71, 69, 67, 66, 64, 63, 63, 63, 63, 62, 62, 60, 58, 58, 58, 58, 57, 57, 57, 56, 53, 53, 53, 52, 52, 52, 52, 52, 52, 51, 51, 51, 51, 49, 49, 47, 47, 45, 44, 44, 44, 44, 44, 44, 44, 44, 43, 42, 42, 41, 41, 41, 41, 41, 41, 40, 40, 40, 40, 40, 40, 40, 39, 39, 39, 39, 39, 38, 38, 37, 37], \"colorscale\": [[0.0, \"rgb(0,0,131)\"], [0.2, \"rgb(0,60,170)\"], [0.4, \"rgb(5,255,255)\"], [0.6, \"rgb(255,255,0)\"], [0.8, \"rgb(250,0,0)\"], [1.0, \"rgb(128,0,0)\"]]}, \"text\": \"Word counts\", \"type\": \"bar\", \"x\": [\"report\", \"test\", \"vaccine\", \"china\", \"video\", \"share\", \"world\", \"time\", \"team\", \"farmer\", \"tesla\", \"trump\", \"woman\", \"kohli\", \"2020\", \"poll\", \"govt\", \"protest\", \"people\", \"year\", \"facebook\", \"surface\", \"first\", \"film\", \"like\", \"google\", \"musk\", \"launch\", \"call\", \"match\", \"viral\", \"australia\", \"chief\", \"biden\", \"case\", \"death\", \"take\", \"twitter\", \"bihar\", \"play\", \"found\", \"becomes\", \"actor\", \"delhi\", \"indian\", \"record\", \"leader\", \"vote\"], \"y\": [199, 198, 191, 147, 143, 139, 117, 109, 108, 106, 100, 98, 96, 92, 90, 89, 85, 84, 83, 82, 81, 81, 77, 76, 75, 75, 72, 71, 69, 67, 66, 64, 63, 63, 63, 63, 62, 62, 60, 58, 58, 58, 58, 57, 57, 57, 56, 53]}],                        {\"template\": {\"data\": {\"bar\": [{\"error_x\": {\"color\": \"#2a3f5f\"}, \"error_y\": {\"color\": \"#2a3f5f\"}, \"marker\": {\"line\": {\"color\": \"#E5ECF6\", \"width\": 0.5}}, \"type\": \"bar\"}], \"barpolar\": [{\"marker\": {\"line\": {\"color\": \"#E5ECF6\", \"width\": 0.5}}, \"type\": \"barpolar\"}], \"carpet\": [{\"aaxis\": {\"endlinecolor\": \"#2a3f5f\", \"gridcolor\": \"white\", \"linecolor\": \"white\", \"minorgridcolor\": \"white\", \"startlinecolor\": \"#2a3f5f\"}, \"baxis\": {\"endlinecolor\": \"#2a3f5f\", \"gridcolor\": \"white\", \"linecolor\": \"white\", \"minorgridcolor\": \"white\", \"startlinecolor\": \"#2a3f5f\"}, \"type\": \"carpet\"}], \"choropleth\": [{\"colorbar\": {\"outlinewidth\": 0, \"ticks\": \"\"}, \"type\": \"choropleth\"}], \"contour\": [{\"colorbar\": {\"outlinewidth\": 0, \"ticks\": \"\"}, \"colorscale\": [[0.0, \"#0d0887\"], [0.1111111111111111, \"#46039f\"], [0.2222222222222222, \"#7201a8\"], [0.3333333333333333, \"#9c179e\"], [0.4444444444444444, \"#bd3786\"], [0.5555555555555556, \"#d8576b\"], [0.6666666666666666, \"#ed7953\"], [0.7777777777777778, \"#fb9f3a\"], [0.8888888888888888, \"#fdca26\"], [1.0, \"#f0f921\"]], \"type\": \"contour\"}], \"contourcarpet\": [{\"colorbar\": {\"outlinewidth\": 0, \"ticks\": \"\"}, \"type\": \"contourcarpet\"}], \"heatmap\": [{\"colorbar\": {\"outlinewidth\": 0, \"ticks\": \"\"}, \"colorscale\": [[0.0, \"#0d0887\"], [0.1111111111111111, \"#46039f\"], [0.2222222222222222, \"#7201a8\"], [0.3333333333333333, \"#9c179e\"], [0.4444444444444444, \"#bd3786\"], [0.5555555555555556, \"#d8576b\"], [0.6666666666666666, \"#ed7953\"], [0.7777777777777778, \"#fb9f3a\"], [0.8888888888888888, \"#fdca26\"], [1.0, \"#f0f921\"]], \"type\": \"heatmap\"}], \"heatmapgl\": [{\"colorbar\": {\"outlinewidth\": 0, \"ticks\": \"\"}, \"colorscale\": [[0.0, \"#0d0887\"], [0.1111111111111111, \"#46039f\"], [0.2222222222222222, \"#7201a8\"], [0.3333333333333333, \"#9c179e\"], [0.4444444444444444, \"#bd3786\"], [0.5555555555555556, \"#d8576b\"], [0.6666666666666666, \"#ed7953\"], [0.7777777777777778, \"#fb9f3a\"], [0.8888888888888888, \"#fdca26\"], [1.0, \"#f0f921\"]], \"type\": \"heatmapgl\"}], \"histogram\": [{\"marker\": {\"colorbar\": {\"outlinewidth\": 0, \"ticks\": \"\"}}, \"type\": \"histogram\"}], \"histogram2d\": [{\"colorbar\": {\"outlinewidth\": 0, \"ticks\": \"\"}, \"colorscale\": [[0.0, \"#0d0887\"], [0.1111111111111111, \"#46039f\"], [0.2222222222222222, \"#7201a8\"], [0.3333333333333333, \"#9c179e\"], [0.4444444444444444, \"#bd3786\"], [0.5555555555555556, \"#d8576b\"], [0.6666666666666666, \"#ed7953\"], [0.7777777777777778, \"#fb9f3a\"], [0.8888888888888888, \"#fdca26\"], [1.0, \"#f0f921\"]], \"type\": \"histogram2d\"}], \"histogram2dcontour\": [{\"colorbar\": {\"outlinewidth\": 0, \"ticks\": \"\"}, \"colorscale\": [[0.0, \"#0d0887\"], [0.1111111111111111, \"#46039f\"], [0.2222222222222222, \"#7201a8\"], [0.3333333333333333, \"#9c179e\"], [0.4444444444444444, \"#bd3786\"], [0.5555555555555556, \"#d8576b\"], [0.6666666666666666, \"#ed7953\"], [0.7777777777777778, \"#fb9f3a\"], [0.8888888888888888, \"#fdca26\"], [1.0, \"#f0f921\"]], \"type\": \"histogram2dcontour\"}], \"mesh3d\": [{\"colorbar\": {\"outlinewidth\": 0, \"ticks\": \"\"}, \"type\": \"mesh3d\"}], \"parcoords\": [{\"line\": {\"colorbar\": {\"outlinewidth\": 0, \"ticks\": \"\"}}, \"type\": \"parcoords\"}], \"pie\": [{\"automargin\": true, \"type\": \"pie\"}], \"scatter\": [{\"marker\": {\"colorbar\": {\"outlinewidth\": 0, \"ticks\": \"\"}}, \"type\": \"scatter\"}], \"scatter3d\": [{\"line\": {\"colorbar\": {\"outlinewidth\": 0, \"ticks\": \"\"}}, \"marker\": {\"colorbar\": {\"outlinewidth\": 0, \"ticks\": \"\"}}, \"type\": \"scatter3d\"}], \"scattercarpet\": [{\"marker\": {\"colorbar\": {\"outlinewidth\": 0, \"ticks\": \"\"}}, \"type\": \"scattercarpet\"}], \"scattergeo\": [{\"marker\": {\"colorbar\": {\"outlinewidth\": 0, \"ticks\": \"\"}}, \"type\": \"scattergeo\"}], \"scattergl\": [{\"marker\": {\"colorbar\": {\"outlinewidth\": 0, \"ticks\": \"\"}}, \"type\": \"scattergl\"}], \"scattermapbox\": [{\"marker\": {\"colorbar\": {\"outlinewidth\": 0, \"ticks\": \"\"}}, \"type\": \"scattermapbox\"}], \"scatterpolar\": [{\"marker\": {\"colorbar\": {\"outlinewidth\": 0, \"ticks\": \"\"}}, \"type\": \"scatterpolar\"}], \"scatterpolargl\": [{\"marker\": {\"colorbar\": {\"outlinewidth\": 0, \"ticks\": \"\"}}, \"type\": \"scatterpolargl\"}], \"scatterternary\": [{\"marker\": {\"colorbar\": {\"outlinewidth\": 0, \"ticks\": \"\"}}, \"type\": \"scatterternary\"}], \"surface\": [{\"colorbar\": {\"outlinewidth\": 0, \"ticks\": \"\"}, \"colorscale\": [[0.0, \"#0d0887\"], [0.1111111111111111, \"#46039f\"], [0.2222222222222222, \"#7201a8\"], [0.3333333333333333, \"#9c179e\"], [0.4444444444444444, \"#bd3786\"], [0.5555555555555556, \"#d8576b\"], [0.6666666666666666, \"#ed7953\"], [0.7777777777777778, \"#fb9f3a\"], [0.8888888888888888, \"#fdca26\"], [1.0, \"#f0f921\"]], \"type\": \"surface\"}], \"table\": [{\"cells\": {\"fill\": {\"color\": \"#EBF0F8\"}, \"line\": {\"color\": \"white\"}}, \"header\": {\"fill\": {\"color\": \"#C8D4E3\"}, \"line\": {\"color\": \"white\"}}, \"type\": \"table\"}]}, \"layout\": {\"annotationdefaults\": {\"arrowcolor\": \"#2a3f5f\", \"arrowhead\": 0, \"arrowwidth\": 1}, \"autotypenumbers\": \"strict\", \"coloraxis\": {\"colorbar\": {\"outlinewidth\": 0, \"ticks\": \"\"}}, \"colorscale\": {\"diverging\": [[0, \"#8e0152\"], [0.1, \"#c51b7d\"], [0.2, \"#de77ae\"], [0.3, \"#f1b6da\"], [0.4, \"#fde0ef\"], [0.5, \"#f7f7f7\"], [0.6, \"#e6f5d0\"], [0.7, \"#b8e186\"], [0.8, \"#7fbc41\"], [0.9, \"#4d9221\"], [1, \"#276419\"]], \"sequential\": [[0.0, \"#0d0887\"], [0.1111111111111111, \"#46039f\"], [0.2222222222222222, \"#7201a8\"], [0.3333333333333333, \"#9c179e\"], [0.4444444444444444, \"#bd3786\"], [0.5555555555555556, \"#d8576b\"], [0.6666666666666666, \"#ed7953\"], [0.7777777777777778, \"#fb9f3a\"], [0.8888888888888888, \"#fdca26\"], [1.0, \"#f0f921\"]], \"sequentialminus\": [[0.0, \"#0d0887\"], [0.1111111111111111, \"#46039f\"], [0.2222222222222222, \"#7201a8\"], [0.3333333333333333, \"#9c179e\"], [0.4444444444444444, \"#bd3786\"], [0.5555555555555556, \"#d8576b\"], [0.6666666666666666, \"#ed7953\"], [0.7777777777777778, \"#fb9f3a\"], [0.8888888888888888, \"#fdca26\"], [1.0, \"#f0f921\"]]}, \"colorway\": [\"#636efa\", \"#EF553B\", \"#00cc96\", \"#ab63fa\", \"#FFA15A\", \"#19d3f3\", \"#FF6692\", \"#B6E880\", \"#FF97FF\", \"#FECB52\"], \"font\": {\"color\": \"#2a3f5f\"}, \"geo\": {\"bgcolor\": \"white\", \"lakecolor\": \"white\", \"landcolor\": \"#E5ECF6\", \"showlakes\": true, \"showland\": true, \"subunitcolor\": \"white\"}, \"hoverlabel\": {\"align\": \"left\"}, \"hovermode\": \"closest\", \"mapbox\": {\"style\": \"light\"}, \"paper_bgcolor\": \"white\", \"plot_bgcolor\": \"#E5ECF6\", \"polar\": {\"angularaxis\": {\"gridcolor\": \"white\", \"linecolor\": \"white\", \"ticks\": \"\"}, \"bgcolor\": \"#E5ECF6\", \"radialaxis\": {\"gridcolor\": \"white\", \"linecolor\": \"white\", \"ticks\": \"\"}}, \"scene\": {\"xaxis\": {\"backgroundcolor\": \"#E5ECF6\", \"gridcolor\": \"white\", \"gridwidth\": 2, \"linecolor\": \"white\", \"showbackground\": true, \"ticks\": \"\", \"zerolinecolor\": \"white\"}, \"yaxis\": {\"backgroundcolor\": \"#E5ECF6\", \"gridcolor\": \"white\", \"gridwidth\": 2, \"linecolor\": \"white\", \"showbackground\": true, \"ticks\": \"\", \"zerolinecolor\": \"white\"}, \"zaxis\": {\"backgroundcolor\": \"#E5ECF6\", \"gridcolor\": \"white\", \"gridwidth\": 2, \"linecolor\": \"white\", \"showbackground\": true, \"ticks\": \"\", \"zerolinecolor\": \"white\"}}, \"shapedefaults\": {\"line\": {\"color\": \"#2a3f5f\"}}, \"ternary\": {\"aaxis\": {\"gridcolor\": \"white\", \"linecolor\": \"white\", \"ticks\": \"\"}, \"baxis\": {\"gridcolor\": \"white\", \"linecolor\": \"white\", \"ticks\": \"\"}, \"bgcolor\": \"#E5ECF6\", \"caxis\": {\"gridcolor\": \"white\", \"linecolor\": \"white\", \"ticks\": \"\"}}, \"title\": {\"x\": 0.05}, \"xaxis\": {\"automargin\": true, \"gridcolor\": \"white\", \"linecolor\": \"white\", \"ticks\": \"\", \"title\": {\"standoff\": 15}, \"zerolinecolor\": \"white\", \"zerolinewidth\": 2}, \"yaxis\": {\"automargin\": true, \"gridcolor\": \"white\", \"linecolor\": \"white\", \"ticks\": \"\", \"title\": {\"standoff\": 15}, \"zerolinecolor\": \"white\", \"zerolinewidth\": 2}}}, \"title\": {\"text\": \"Top 50 (cleaned) Word frequencies in dataset\"}},                        {\"responsive\": true}                    ).then(function(){\n",
       "                            \n",
       "var gd = document.getElementById('2b06660d-bfa4-4653-a78a-7e336b53f172');\n",
       "var x = new MutationObserver(function (mutations, observer) {{\n",
       "        var display = window.getComputedStyle(gd).display;\n",
       "        if (!display || display === 'none') {{\n",
       "            console.log([gd, 'removed!']);\n",
       "            Plotly.purge(gd);\n",
       "            observer.disconnect();\n",
       "        }}\n",
       "}});\n",
       "\n",
       "// Listen for the removal of the full notebook cells\n",
       "var notebookContainer = gd.closest('#notebook-container');\n",
       "if (notebookContainer) {{\n",
       "    x.observe(notebookContainer, {childList: true});\n",
       "}}\n",
       "\n",
       "// Listen for the clearing of the current output cell\n",
       "var outputEl = gd.closest('.output');\n",
       "if (outputEl) {{\n",
       "    x.observe(outputEl, {childList: true});\n",
       "}}\n",
       "\n",
       "                        })                };                });            </script>        </div>"
      ]
     },
     "metadata": {},
     "output_type": "display_data"
    }
   ],
   "source": [
    "All_words = df_clean['news_headline_word_cloud'].str.split(expand=True).unstack().value_counts()\n",
    "data = [go.Bar(x = All_words.index.values[2:50],\n",
    "                y = All_words.values[2:50],\n",
    "                marker= dict(colorscale='Jet', color = All_words.values[2:100]),\n",
    "                text='Word counts'\n",
    "    )]\n",
    "\n",
    "layout = go.Layout(\n",
    "    title='Top 50 (cleaned) Word frequencies in dataset'\n",
    ")\n",
    "\n",
    "fig = go.Figure(data=data, layout=layout)\n",
    "\n",
    "py.iplot(fig, filename='Cleaned Words')\n"
   ]
  },
  {
   "cell_type": "code",
   "execution_count": 17,
   "metadata": {
    "scrolled": false
   },
   "outputs": [
    {
     "data": {
      "image/png": "[encoded data removed]",
      "text/plain": [
       "<PIL.Image.Image image mode=RGB size=400x200 at 0x7FF66BDF1B50>"
      ]
     },
     "execution_count": 17,
     "metadata": {},
     "output_type": "execute_result"
    }
   ],
   "source": [
    "from wordcloud import WordCloud\n",
    "long_string = ','.join(list(df_clean['news_headline_word_cloud'].values))\n",
    "wordcloud = WordCloud(background_color=\"white\", max_words=5000, contour_width=3, contour_color='steelblue')\n",
    "wordcloud.generate(long_string)\n",
    "wordcloud.to_image()"
   ]
  },
  {
   "cell_type": "code",
   "execution_count": 18,
   "metadata": {},
   "outputs": [],
   "source": [
    "lda_model =  gensim.models.LdaMulticore(bow_corpus_training, \n",
    "                                   num_topics = 7, \n",
    "                                   id2word = dictionary,\n",
    "                                   passes = 30,\n",
    "                                   workers = 12)"
   ]
  },
  {
   "cell_type": "code",
   "execution_count": 19,
   "metadata": {},
   "outputs": [
    {
     "name": "stdout",
     "output_type": "stream",
     "text": [
      "[(0,\n",
      "  '0.017*\"minister\" + 0.015*\"bjp\" + 0.015*\"government\" + 0.014*\"election\" + '\n",
      "  '0.013*\"farmer\" + 0.013*\"leader\" + 0.012*\"party\" + 0.012*\"congress\" + '\n",
      "  '0.012*\"state\" + 0.010*\"delhi\"'),\n",
      " (1,\n",
      "  '0.027*\"film\" + 0.017*\"actor\" + 0.013*\"actress\" + 0.009*\"wrote\" + '\n",
      "  '0.009*\"like\" + 0.007*\"time\" + 0.007*\"upcoming\" + 0.007*\"khan\" + '\n",
      "  '0.006*\"trump\" + 0.006*\"instagram\"'),\n",
      " (2,\n",
      "  '0.020*\"$\" + 0.015*\"company\" + 0.013*\"billion\" + 0.012*\"%\" + 0.012*\"tesla\" + '\n",
      "  '0.009*\"vehicle\" + 0.009*\"million\" + 0.008*\"ceo\" + 0.008*\"musk\" + '\n",
      "  '0.007*\"electric\"'),\n",
      " (3,\n",
      "  '0.016*\"user\" + 0.012*\"facebook\" + 0.009*\"video\" + 0.008*\"twitter\" + '\n",
      "  '0.008*\"google\" + 0.008*\"apple\" + 0.008*\"company\" + 0.007*\"feature\" + '\n",
      "  '0.007*\"new\" + 0.007*\"app\"'),\n",
      " (4,\n",
      "  '0.032*\"vaccine\" + 0.030*\"19\" + 0.030*\"covid\" + 0.013*\"coronavirus\" + '\n",
      "  '0.011*\"positive\" + 0.009*\"health\" + 0.009*\"country\" + 0.008*\"tested\" + '\n",
      "  '0.008*\"uk\" + 0.008*\"trial\"'),\n",
      " (5,\n",
      "  '0.022*\"australia\" + 0.017*\"match\" + 0.016*\"team\" + 0.013*\"run\" + '\n",
      "  '0.013*\"captain\" + 0.011*\"kohli\" + 0.010*\"ipl\" + 0.009*\"series\" + '\n",
      "  '0.009*\"virat\" + 0.009*\"test\"'),\n",
      " (6,\n",
      "  '0.010*\"death\" + 0.010*\"₹\" + 0.010*\"new\" + 0.010*\"world\" + 0.009*\"space\" + '\n",
      "  '0.009*\"country\" + 0.009*\"china\" + 0.009*\"case\" + 0.008*\"crore\" + '\n",
      "  '0.008*\"reported\"')]\n"
     ]
    }
   ],
   "source": [
    "pprint(lda_model.print_topics())"
   ]
  },
  {
   "cell_type": "code",
   "execution_count": 20,
   "metadata": {},
   "outputs": [
    {
     "name": "stdout",
     "output_type": "stream",
     "text": [
      "0: ['minister', 'bjp', 'government', 'election', 'farmer', 'leader', 'party', 'congress', 'state', 'delhi']\n",
      "1: ['film', 'actor', 'actress', 'wrote', 'like', 'time', 'upcoming', 'khan', 'trump', 'instagram']\n",
      "2: ['$', 'company', 'billion', '%', 'tesla', 'vehicle', 'million', 'ceo', 'musk', 'electric']\n",
      "3: ['user', 'facebook', 'video', 'twitter', 'google', 'apple', 'company', 'feature', 'new', 'app']\n",
      "4: ['vaccine', '19', 'covid', 'coronavirus', 'positive', 'health', 'country', 'tested', 'uk', 'trial']\n",
      "5: ['australia', 'match', 'team', 'run', 'captain', 'kohli', 'ipl', 'series', 'virat', 'test']\n",
      "6: ['death', '₹', 'new', 'world', 'space', 'country', 'china', 'case', 'crore', 'reported']\n"
     ]
    }
   ],
   "source": [
    "def print_model(model):\n",
    "    \n",
    "    def print_topic(topic):\n",
    "        topic_no, topic_repr = topic\n",
    "        parts = topic_repr.split(\"+\")\n",
    "        words = [re.search('\"(.*)\"', part).group(1) for part in parts]\n",
    "        return \"{}: {}\".format(topic_no, words)\n",
    "    \n",
    "    for topic in model.print_topics():\n",
    "        print(print_topic(topic))\n",
    "        \n",
    "    \n",
    "print_model(lda_model)"
   ]
  },
  {
   "cell_type": "code",
   "execution_count": 21,
   "metadata": {},
   "outputs": [],
   "source": [
    "# ['sports', 'technology', 'politics', 'science', 'world', 'entertainment', 'automobile']\n",
    "topic_mapping = {\n",
    "    0: \"Politics\",\n",
    "    1: \"Entertainment\",\n",
    "    2: \"Automobile\",\n",
    "    3: \"Technology\",\n",
    "    4: \"World\",\n",
    "    5: \"Sports\",\n",
    "    6: \"Science\"\n",
    "}"
   ]
  },
  {
   "cell_type": "code",
   "execution_count": 22,
   "metadata": {},
   "outputs": [
    {
     "name": "stdout",
     "output_type": "stream",
     "text": [
      "Word 13 (\"2021\") appears 1 time.\n",
      "Word 40 (\"company\") appears 1 time.\n",
      "Word 150 (\"new\") appears 1 time.\n",
      "Word 186 (\"space\") appears 2 time.\n",
      "Word 212 (\"take\") appears 1 time.\n",
      "Word 250 (\"commercial\") appears 1 time.\n",
      "Word 277 (\"motor\") appears 1 time.\n",
      "Word 282 (\"short\") appears 1 time.\n",
      "Word 290 (\"aim\") appears 1 time.\n",
      "Word 313 (\"’\") appears 1 time.\n",
      "Word 319 (\"expected\") appears 1 time.\n",
      "Word 504 (\"test\") appears 1 time.\n",
      "Word 597 (\"didnt\") appears 1 time.\n",
      "Word 758 (\"mexico\") appears 1 time.\n",
      "Word 928 (\"saturday\") appears 1 time.\n",
      "Word 1148 (\"sequence\") appears 1 time.\n",
      "Word 1156 (\"complete\") appears 1 time.\n",
      "Word 1227 (\"passenger\") appears 1 time.\n",
      "Word 1277 (\"cut\") appears 1 time.\n",
      "Word 1386 (\"rocket\") appears 1 time.\n",
      "Word 1392 (\"start\") appears 1 time.\n",
      "Word 1598 (\"america\") appears 1 time.\n",
      "Word 1693 (\"flight\") appears 3 time.\n",
      "Word 2024 (\"returned\") appears 1 time.\n"
     ]
    }
   ],
   "source": [
    "document_num = 4\n",
    "bow_doc_y = bow_corpus_testing[document_num]\n",
    "\n",
    "for i in range(len(bow_doc_y)):\n",
    "    print(\"Word {} (\\\"{}\\\") appears {} time.\".format(bow_doc_y[i][0], \n",
    "                                                     dictionary[bow_doc_y[i][0]], \n",
    "                                                     bow_doc_y[i][1]))"
   ]
  },
  {
   "cell_type": "code",
   "execution_count": 23,
   "metadata": {},
   "outputs": [
    {
     "name": "stdout",
     "output_type": "stream",
     "text": [
      "\n",
      "Score: 0.6925426721572876\t \n",
      "Topic: 0.020*\"$\" + 0.015*\"company\" + 0.013*\"billion\" + 0.012*\"%\" + 0.012*\"tesla\" + 0.009*\"vehicle\" + 0.009*\"million\" + 0.008*\"ceo\" + 0.008*\"musk\" + 0.007*\"electric\"\n",
      "\n",
      "Score: 0.0839642807841301\t \n",
      "Topic: 0.032*\"vaccine\" + 0.030*\"19\" + 0.030*\"covid\" + 0.013*\"coronavirus\" + 0.011*\"positive\" + 0.009*\"health\" + 0.009*\"country\" + 0.008*\"tested\" + 0.008*\"uk\" + 0.008*\"trial\"\n",
      "\n",
      "Score: 0.08099808543920517\t \n",
      "Topic: 0.010*\"death\" + 0.010*\"₹\" + 0.010*\"new\" + 0.010*\"world\" + 0.009*\"space\" + 0.009*\"country\" + 0.009*\"china\" + 0.009*\"case\" + 0.008*\"crore\" + 0.008*\"reported\"\n",
      "\n",
      "Score: 0.07214349508285522\t \n",
      "Topic: 0.027*\"film\" + 0.017*\"actor\" + 0.013*\"actress\" + 0.009*\"wrote\" + 0.009*\"like\" + 0.007*\"time\" + 0.007*\"upcoming\" + 0.007*\"khan\" + 0.006*\"trump\" + 0.006*\"instagram\"\n",
      "\n",
      "Score: 0.06009593605995178\t \n",
      "Topic: 0.016*\"user\" + 0.012*\"facebook\" + 0.009*\"video\" + 0.008*\"twitter\" + 0.008*\"google\" + 0.008*\"apple\" + 0.008*\"company\" + 0.007*\"feature\" + 0.007*\"new\" + 0.007*\"app\"\n"
     ]
    }
   ],
   "source": [
    "for index, score in sorted(lda_model[bow_corpus_testing[4]], key=lambda tup: -1*tup[1]):\n",
    "    print(\"\\nScore: {}\\t \\nTopic: {}\".format(score, lda_model.print_topic(index, 10)))"
   ]
  },
  {
   "cell_type": "code",
   "execution_count": 24,
   "metadata": {},
   "outputs": [
    {
     "name": "stdout",
     "output_type": "stream",
     "text": [
      "0.016*\"user\" + 0.012*\"facebook\" + 0.009*\"video\" + 0.008*\"twitter\" + 0.008*\"google\" + 0.008*\"apple\" + 0.008*\"company\" + 0.007*\"feature\" + 0.007*\"new\" + 0.007*\"app\"\n"
     ]
    }
   ],
   "source": [
    "print(lda_model.print_topic(index, 10))"
   ]
  },
  {
   "cell_type": "code",
   "execution_count": 25,
   "metadata": {},
   "outputs": [
    {
     "name": "stdout",
     "output_type": "stream",
     "text": [
      "['actress', 'nushrratt', 'bharuccha', 'ha', 'starred', 'various', 'romantic-comedy', 'film', 'said', 'want', 'explore', 'genre', 'well', 'getting', 'opportunity', 'feel', 'open', 'newer', 'different', 'castingthey', 'trusting', 'actor', 'much', 'want', 'thing', 'dont', 'trust', '?', 'added']\n"
     ]
    }
   ],
   "source": [
    "print(df_clean.article_final_tokens[4808])"
   ]
  },
  {
   "cell_type": "code",
   "execution_count": 26,
   "metadata": {},
   "outputs": [
    {
     "name": "stdout",
     "output_type": "stream",
     "text": [
      "              Politics    Entertainment        Automobile        Technology  \\\n",
      "0       (2, 0.2888604)   (3, 0.6835732)              None              None   \n",
      "1      (2, 0.97138447)             None              None              None   \n",
      "2      (0, 0.36258197)  (1, 0.18923622)    (3, 0.4208821)              None   \n",
      "3      (3, 0.19951305)   (4, 0.6608887)   (6, 0.11574462)              None   \n",
      "4     (1, 0.072145425)  (2, 0.69260305)  (3, 0.060096413)  (4, 0.083977275)   \n",
      "...                ...              ...               ...               ...   \n",
      "1558   (2, 0.46921128)   (4, 0.2233283)    (6, 0.2845003)              None   \n",
      "1559  (4, 0.104710974)  (6, 0.86876607)              None              None   \n",
      "1560   (4, 0.11007096)   (6, 0.8421716)              None              None   \n",
      "1561   (0, 0.40620458)  (3, 0.22281705)   (6, 0.34708858)              None   \n",
      "1562    (1, 0.3190587)  (4, 0.53236127)    (5, 0.1127323)              None   \n",
      "\n",
      "              Science Sports World  \n",
      "0                None   None  None  \n",
      "1                None   None  None  \n",
      "2                None   None  None  \n",
      "3                None   None  None  \n",
      "4     (6, 0.08092232)   None  None  \n",
      "...               ...    ...   ...  \n",
      "1558             None   None  None  \n",
      "1559             None   None  None  \n",
      "1560             None   None  None  \n",
      "1561             None   None  None  \n",
      "1562             None   None  None  \n",
      "\n",
      "[1563 rows x 7 columns]\n"
     ]
    }
   ],
   "source": [
    "topic_probability = []\n",
    "lda_vector = lda_model[bow_corpus_testing]\n",
    "for t in lda_vector:\n",
    "      topic_probability.append(t)\n",
    "results_test = pd.DataFrame(topic_probability,columns=[\"Politics\",\"Entertainment\",\"Automobile\",\"Technology\",\n",
    "                                                       \"Science\",\"Sports\",\"World\"])\n",
    "print(results_test)"
   ]
  },
  {
   "cell_type": "code",
   "execution_count": 27,
   "metadata": {},
   "outputs": [
    {
     "data": {
      "text/html": [
       "<div>\n",
       "<style scoped>\n",
       "    .dataframe tbody tr th:only-of-type {\n",
       "        vertical-align: middle;\n",
       "    }\n",
       "\n",
       "    .dataframe tbody tr th {\n",
       "        vertical-align: top;\n",
       "    }\n",
       "\n",
       "    .dataframe thead th {\n",
       "        text-align: right;\n",
       "    }\n",
       "</style>\n",
       "<table border=\"1\" class=\"dataframe\">\n",
       "  <thead>\n",
       "    <tr style=\"text-align: right;\">\n",
       "      <th></th>\n",
       "      <th>news_headline</th>\n",
       "    </tr>\n",
       "  </thead>\n",
       "  <tbody>\n",
       "    <tr>\n",
       "      <th>0</th>\n",
       "      <td>Porn star jokes she could post nudes on Insta ...</td>\n",
       "    </tr>\n",
       "    <tr>\n",
       "      <th>1</th>\n",
       "      <td>Satellite pics show remains of SpaceX's rocket...</td>\n",
       "    </tr>\n",
       "    <tr>\n",
       "      <th>2</th>\n",
       "      <td>Not in favour of recommending such games: Top ...</td>\n",
       "    </tr>\n",
       "    <tr>\n",
       "      <th>3</th>\n",
       "      <td>Researchers develop first AI tool to detect CO...</td>\n",
       "    </tr>\n",
       "    <tr>\n",
       "      <th>4</th>\n",
       "      <td>Virgin Galactic's test space flight cut short ...</td>\n",
       "    </tr>\n",
       "    <tr>\n",
       "      <th>...</th>\n",
       "      <td>...</td>\n",
       "    </tr>\n",
       "    <tr>\n",
       "      <th>1558</th>\n",
       "      <td>China to open world's largest radio telescope ...</td>\n",
       "    </tr>\n",
       "    <tr>\n",
       "      <th>1559</th>\n",
       "      <td>Chinese spacecraft brings 1st lunar samples in...</td>\n",
       "    </tr>\n",
       "    <tr>\n",
       "      <th>1560</th>\n",
       "      <td>'Forever chemicals' used in outdoor gear found...</td>\n",
       "    </tr>\n",
       "    <tr>\n",
       "      <th>1561</th>\n",
       "      <td>US Space Force personnel will be called 'Guard...</td>\n",
       "    </tr>\n",
       "    <tr>\n",
       "      <th>1562</th>\n",
       "      <td>Corals from Aus' 'Coral IVF' trial survive ble...</td>\n",
       "    </tr>\n",
       "  </tbody>\n",
       "</table>\n",
       "<p>1563 rows × 1 columns</p>\n",
       "</div>"
      ],
      "text/plain": [
       "                                          news_headline\n",
       "0     Porn star jokes she could post nudes on Insta ...\n",
       "1     Satellite pics show remains of SpaceX's rocket...\n",
       "2     Not in favour of recommending such games: Top ...\n",
       "3     Researchers develop first AI tool to detect CO...\n",
       "4     Virgin Galactic's test space flight cut short ...\n",
       "...                                                 ...\n",
       "1558  China to open world's largest radio telescope ...\n",
       "1559  Chinese spacecraft brings 1st lunar samples in...\n",
       "1560  'Forever chemicals' used in outdoor gear found...\n",
       "1561  US Space Force personnel will be called 'Guard...\n",
       "1562  Corals from Aus' 'Coral IVF' trial survive ble...\n",
       "\n",
       "[1563 rows x 1 columns]"
      ]
     },
     "execution_count": 27,
     "metadata": {},
     "output_type": "execute_result"
    }
   ],
   "source": [
    "test_df.iloc[:,1:2]"
   ]
  },
  {
   "cell_type": "code",
   "execution_count": 28,
   "metadata": {},
   "outputs": [
    {
     "data": {
      "text/html": [
       "<div>\n",
       "<style scoped>\n",
       "    .dataframe tbody tr th:only-of-type {\n",
       "        vertical-align: middle;\n",
       "    }\n",
       "\n",
       "    .dataframe tbody tr th {\n",
       "        vertical-align: top;\n",
       "    }\n",
       "\n",
       "    .dataframe thead th {\n",
       "        text-align: right;\n",
       "    }\n",
       "</style>\n",
       "<table border=\"1\" class=\"dataframe\">\n",
       "  <thead>\n",
       "    <tr style=\"text-align: right;\">\n",
       "      <th></th>\n",
       "      <th>news_category</th>\n",
       "    </tr>\n",
       "  </thead>\n",
       "  <tbody>\n",
       "    <tr>\n",
       "      <th>0</th>\n",
       "      <td>Technology</td>\n",
       "    </tr>\n",
       "    <tr>\n",
       "      <th>1</th>\n",
       "      <td>Automobile</td>\n",
       "    </tr>\n",
       "    <tr>\n",
       "      <th>2</th>\n",
       "      <td>Technology</td>\n",
       "    </tr>\n",
       "    <tr>\n",
       "      <th>3</th>\n",
       "      <td>World</td>\n",
       "    </tr>\n",
       "    <tr>\n",
       "      <th>4</th>\n",
       "      <td>Automobile</td>\n",
       "    </tr>\n",
       "  </tbody>\n",
       "</table>\n",
       "</div>"
      ],
      "text/plain": [
       "  news_category\n",
       "0    Technology\n",
       "1    Automobile\n",
       "2    Technology\n",
       "3         World\n",
       "4    Automobile"
      ]
     },
     "execution_count": 28,
     "metadata": {},
     "output_type": "execute_result"
    }
   ],
   "source": [
    "final_topics = pd.DataFrame(columns=['news_category'])\n",
    "for t in lda_vector:\n",
    "    topic_num=0\n",
    "    curr_prob=0\n",
    "    for prob in t:\n",
    "        if(prob[1]>curr_prob):\n",
    "            curr_prob=prob[1]\n",
    "            topic_num=prob[0]\n",
    "    final_topics.loc[len(final_topics.index)] = [topic_mapping[topic_num]]\n",
    "final_topics.head()"
   ]
  },
  {
   "cell_type": "code",
   "execution_count": 29,
   "metadata": {},
   "outputs": [
    {
     "data": {
      "text/html": [
       "<div>\n",
       "<style scoped>\n",
       "    .dataframe tbody tr th:only-of-type {\n",
       "        vertical-align: middle;\n",
       "    }\n",
       "\n",
       "    .dataframe tbody tr th {\n",
       "        vertical-align: top;\n",
       "    }\n",
       "\n",
       "    .dataframe thead th {\n",
       "        text-align: right;\n",
       "    }\n",
       "</style>\n",
       "<table border=\"1\" class=\"dataframe\">\n",
       "  <thead>\n",
       "    <tr style=\"text-align: right;\">\n",
       "      <th></th>\n",
       "      <th>news_category</th>\n",
       "      <th>headline</th>\n",
       "      <th>article</th>\n",
       "    </tr>\n",
       "  </thead>\n",
       "  <tbody>\n",
       "    <tr>\n",
       "      <th>0</th>\n",
       "      <td>technology</td>\n",
       "      <td>Porn star jokes she could post nudes on Insta ...</td>\n",
       "      <td>Porn star Kendra Sunderland's Instagram accoun...</td>\n",
       "    </tr>\n",
       "    <tr>\n",
       "      <th>1</th>\n",
       "      <td>automobile</td>\n",
       "      <td>Satellite pics show remains of SpaceX's rocket...</td>\n",
       "      <td>Satellite images showed the remains of Elon Mu...</td>\n",
       "    </tr>\n",
       "    <tr>\n",
       "      <th>2</th>\n",
       "      <td>technology</td>\n",
       "      <td>Not in favour of recommending such games: Top ...</td>\n",
       "      <td>National Commission for Protection of Child Ri...</td>\n",
       "    </tr>\n",
       "    <tr>\n",
       "      <th>3</th>\n",
       "      <td>world</td>\n",
       "      <td>Researchers develop first AI tool to detect CO...</td>\n",
       "      <td>A team of researchers from the University of V...</td>\n",
       "    </tr>\n",
       "    <tr>\n",
       "      <th>4</th>\n",
       "      <td>automobile</td>\n",
       "      <td>Virgin Galactic's test space flight cut short ...</td>\n",
       "      <td>Richard Branson's space tourism company Virgin...</td>\n",
       "    </tr>\n",
       "  </tbody>\n",
       "</table>\n",
       "</div>"
      ],
      "text/plain": [
       "  news_category                                           headline  \\\n",
       "0    technology  Porn star jokes she could post nudes on Insta ...   \n",
       "1    automobile  Satellite pics show remains of SpaceX's rocket...   \n",
       "2    technology  Not in favour of recommending such games: Top ...   \n",
       "3         world  Researchers develop first AI tool to detect CO...   \n",
       "4    automobile  Virgin Galactic's test space flight cut short ...   \n",
       "\n",
       "                                             article  \n",
       "0  Porn star Kendra Sunderland's Instagram accoun...  \n",
       "1  Satellite images showed the remains of Elon Mu...  \n",
       "2  National Commission for Protection of Child Ri...  \n",
       "3  A team of researchers from the University of V...  \n",
       "4  Richard Branson's space tourism company Virgin...  "
      ]
     },
     "execution_count": 29,
     "metadata": {},
     "output_type": "execute_result"
    }
   ],
   "source": [
    "# test = pd.DataFrame()\n",
    "final_topics['headline']=test_df.iloc[:,1:2]\n",
    "final_topics['article']=test_df.iloc[:,2:3]\n",
    "final_topics['news_category'] = final_topics['news_category'].str.lower()\n",
    "final_topics.head()"
   ]
  },
  {
   "cell_type": "code",
   "execution_count": 30,
   "metadata": {},
   "outputs": [
    {
     "data": {
      "text/html": [
       "<div>\n",
       "<style scoped>\n",
       "    .dataframe tbody tr th:only-of-type {\n",
       "        vertical-align: middle;\n",
       "    }\n",
       "\n",
       "    .dataframe tbody tr th {\n",
       "        vertical-align: top;\n",
       "    }\n",
       "\n",
       "    .dataframe thead th {\n",
       "        text-align: right;\n",
       "    }\n",
       "</style>\n",
       "<table border=\"1\" class=\"dataframe\">\n",
       "  <thead>\n",
       "    <tr style=\"text-align: right;\">\n",
       "      <th></th>\n",
       "      <th>Unnamed: 0</th>\n",
       "      <th>news_headline</th>\n",
       "      <th>news_article</th>\n",
       "      <th>news_category</th>\n",
       "    </tr>\n",
       "  </thead>\n",
       "  <tbody>\n",
       "    <tr>\n",
       "      <th>0</th>\n",
       "      <td>0</td>\n",
       "      <td>Porn star jokes she could post nudes on Insta ...</td>\n",
       "      <td>Porn star Kendra Sunderland's Instagram accoun...</td>\n",
       "      <td>technology</td>\n",
       "    </tr>\n",
       "    <tr>\n",
       "      <th>1</th>\n",
       "      <td>1</td>\n",
       "      <td>Satellite pics show remains of SpaceX's rocket...</td>\n",
       "      <td>Satellite images showed the remains of Elon Mu...</td>\n",
       "      <td>technology</td>\n",
       "    </tr>\n",
       "    <tr>\n",
       "      <th>2</th>\n",
       "      <td>2</td>\n",
       "      <td>Not in favour of recommending such games: Top ...</td>\n",
       "      <td>National Commission for Protection of Child Ri...</td>\n",
       "      <td>technology</td>\n",
       "    </tr>\n",
       "    <tr>\n",
       "      <th>3</th>\n",
       "      <td>3</td>\n",
       "      <td>Researchers develop first AI tool to detect CO...</td>\n",
       "      <td>A team of researchers from the University of V...</td>\n",
       "      <td>technology</td>\n",
       "    </tr>\n",
       "    <tr>\n",
       "      <th>4</th>\n",
       "      <td>4</td>\n",
       "      <td>Virgin Galactic's test space flight cut short ...</td>\n",
       "      <td>Richard Branson's space tourism company Virgin...</td>\n",
       "      <td>technology</td>\n",
       "    </tr>\n",
       "  </tbody>\n",
       "</table>\n",
       "</div>"
      ],
      "text/plain": [
       "   Unnamed: 0                                      news_headline  \\\n",
       "0           0  Porn star jokes she could post nudes on Insta ...   \n",
       "1           1  Satellite pics show remains of SpaceX's rocket...   \n",
       "2           2  Not in favour of recommending such games: Top ...   \n",
       "3           3  Researchers develop first AI tool to detect CO...   \n",
       "4           4  Virgin Galactic's test space flight cut short ...   \n",
       "\n",
       "                                        news_article news_category  \n",
       "0  Porn star Kendra Sunderland's Instagram accoun...    technology  \n",
       "1  Satellite images showed the remains of Elon Mu...    technology  \n",
       "2  National Commission for Protection of Child Ri...    technology  \n",
       "3  A team of researchers from the University of V...    technology  \n",
       "4  Richard Branson's space tourism company Virgin...    technology  "
      ]
     },
     "execution_count": 30,
     "metadata": {},
     "output_type": "execute_result"
    }
   ],
   "source": [
    "test_df.head()"
   ]
  },
  {
   "cell_type": "code",
   "execution_count": 31,
   "metadata": {},
   "outputs": [],
   "source": [
    "final_topics.to_csv('news_topics.csv', index=True, header=False)"
   ]
  },
  {
   "cell_type": "code",
   "execution_count": 32,
   "metadata": {},
   "outputs": [
    {
     "data": {
      "text/html": [
       "<div>\n",
       "<style scoped>\n",
       "    .dataframe tbody tr th:only-of-type {\n",
       "        vertical-align: middle;\n",
       "    }\n",
       "\n",
       "    .dataframe tbody tr th {\n",
       "        vertical-align: top;\n",
       "    }\n",
       "\n",
       "    .dataframe thead th {\n",
       "        text-align: right;\n",
       "    }\n",
       "</style>\n",
       "<table border=\"1\" class=\"dataframe\">\n",
       "  <thead>\n",
       "    <tr style=\"text-align: right;\">\n",
       "      <th></th>\n",
       "      <th>news_category</th>\n",
       "      <th>headline</th>\n",
       "      <th>article</th>\n",
       "    </tr>\n",
       "  </thead>\n",
       "  <tbody>\n",
       "    <tr>\n",
       "      <th>0</th>\n",
       "      <td>technology</td>\n",
       "      <td>Porn star jokes she could post nudes on Insta ...</td>\n",
       "      <td>Porn star Kendra Sunderland's Instagram accoun...</td>\n",
       "    </tr>\n",
       "    <tr>\n",
       "      <th>1</th>\n",
       "      <td>automobile</td>\n",
       "      <td>Satellite pics show remains of SpaceX's rocket...</td>\n",
       "      <td>Satellite images showed the remains of Elon Mu...</td>\n",
       "    </tr>\n",
       "    <tr>\n",
       "      <th>2</th>\n",
       "      <td>technology</td>\n",
       "      <td>Not in favour of recommending such games: Top ...</td>\n",
       "      <td>National Commission for Protection of Child Ri...</td>\n",
       "    </tr>\n",
       "    <tr>\n",
       "      <th>3</th>\n",
       "      <td>world</td>\n",
       "      <td>Researchers develop first AI tool to detect CO...</td>\n",
       "      <td>A team of researchers from the University of V...</td>\n",
       "    </tr>\n",
       "    <tr>\n",
       "      <th>4</th>\n",
       "      <td>automobile</td>\n",
       "      <td>Virgin Galactic's test space flight cut short ...</td>\n",
       "      <td>Richard Branson's space tourism company Virgin...</td>\n",
       "    </tr>\n",
       "    <tr>\n",
       "      <th>...</th>\n",
       "      <td>...</td>\n",
       "      <td>...</td>\n",
       "      <td>...</td>\n",
       "    </tr>\n",
       "    <tr>\n",
       "      <th>1558</th>\n",
       "      <td>automobile</td>\n",
       "      <td>China to open world's largest radio telescope ...</td>\n",
       "      <td>China will open the world's largest radio tele...</td>\n",
       "    </tr>\n",
       "    <tr>\n",
       "      <th>1559</th>\n",
       "      <td>science</td>\n",
       "      <td>Chinese spacecraft brings 1st lunar samples in...</td>\n",
       "      <td>China's Chang'e-5 probe successfully landed in...</td>\n",
       "    </tr>\n",
       "    <tr>\n",
       "      <th>1560</th>\n",
       "      <td>science</td>\n",
       "      <td>'Forever chemicals' used in outdoor gear found...</td>\n",
       "      <td>\"Forever chemicals\" used in water-repellent ou...</td>\n",
       "    </tr>\n",
       "    <tr>\n",
       "      <th>1561</th>\n",
       "      <td>politics</td>\n",
       "      <td>US Space Force personnel will be called 'Guard...</td>\n",
       "      <td>The members of the US Space Force will be call...</td>\n",
       "    </tr>\n",
       "    <tr>\n",
       "      <th>1562</th>\n",
       "      <td>world</td>\n",
       "      <td>Corals from Aus' 'Coral IVF' trial survive ble...</td>\n",
       "      <td>Coral populations from Australia's first \"Cora...</td>\n",
       "    </tr>\n",
       "  </tbody>\n",
       "</table>\n",
       "<p>1563 rows × 3 columns</p>\n",
       "</div>"
      ],
      "text/plain": [
       "     news_category                                           headline  \\\n",
       "0       technology  Porn star jokes she could post nudes on Insta ...   \n",
       "1       automobile  Satellite pics show remains of SpaceX's rocket...   \n",
       "2       technology  Not in favour of recommending such games: Top ...   \n",
       "3            world  Researchers develop first AI tool to detect CO...   \n",
       "4       automobile  Virgin Galactic's test space flight cut short ...   \n",
       "...            ...                                                ...   \n",
       "1558    automobile  China to open world's largest radio telescope ...   \n",
       "1559       science  Chinese spacecraft brings 1st lunar samples in...   \n",
       "1560       science  'Forever chemicals' used in outdoor gear found...   \n",
       "1561      politics  US Space Force personnel will be called 'Guard...   \n",
       "1562         world  Corals from Aus' 'Coral IVF' trial survive ble...   \n",
       "\n",
       "                                                article  \n",
       "0     Porn star Kendra Sunderland's Instagram accoun...  \n",
       "1     Satellite images showed the remains of Elon Mu...  \n",
       "2     National Commission for Protection of Child Ri...  \n",
       "3     A team of researchers from the University of V...  \n",
       "4     Richard Branson's space tourism company Virgin...  \n",
       "...                                                 ...  \n",
       "1558  China will open the world's largest radio tele...  \n",
       "1559  China's Chang'e-5 probe successfully landed in...  \n",
       "1560  \"Forever chemicals\" used in water-repellent ou...  \n",
       "1561  The members of the US Space Force will be call...  \n",
       "1562  Coral populations from Australia's first \"Cora...  \n",
       "\n",
       "[1563 rows x 3 columns]"
      ]
     },
     "execution_count": 32,
     "metadata": {},
     "output_type": "execute_result"
    }
   ],
   "source": [
    "final_topics"
   ]
  },
  {
   "cell_type": "code",
   "execution_count": 33,
   "metadata": {},
   "outputs": [],
   "source": [
    "from sklearn.metrics import confusion_matrix\n",
    "\n",
    "y_true = test_df['news_category']\n",
    "y_pred = final_topics['news_category']\n",
    "\n",
    "cm = confusion_matrix(y_true, y_pred, labels=category_count)"
   ]
  },
  {
   "cell_type": "code",
   "execution_count": 34,
   "metadata": {},
   "outputs": [],
   "source": [
    "def plot_confusion_matrix(cm, classes,\n",
    "                          normalize=False,\n",
    "                          title='Confusion matrix',\n",
    "                          cmap=plt.cm.Greys):\n",
    "    \"\"\"\n",
    "    This function prints and plots the confusion matrix.\n",
    "    Normalization can be applied by setting `normalize=True`.\n",
    "    \"\"\"\n",
    "    import itertools\n",
    "    np.set_printoptions(precision=2)\n",
    "    if normalize:\n",
    "        cm = cm.astype('float') / cm.sum(axis=1)[:, np.newaxis]\n",
    "        print(\"Normalized confusion matrix\")\n",
    "    else:\n",
    "        print('Confusion matrix, without normalization')\n",
    "\n",
    "    print(cm)\n",
    "\n",
    "    plt.imshow(cm, interpolation='nearest', cmap=cmap)\n",
    "    plt.title(title)\n",
    "    plt.colorbar()\n",
    "    tick_marks = np.arange(len(classes))\n",
    "    plt.xticks(tick_marks, classes, rotation=45)\n",
    "    plt.yticks(tick_marks, classes)\n",
    "\n",
    "    fmt = '.2f' if normalize else 'd'\n",
    "    thresh = cm.max() / 2.\n",
    "    for i, j in itertools.product(range(cm.shape[0]), range(cm.shape[1])):\n",
    "        plt.text(j, i, format(cm[i, j], fmt),\n",
    "                 horizontalalignment=\"center\",\n",
    "                 color=\"white\" if cm[i, j] > thresh else \"black\")\n",
    "\n",
    "    plt.ylabel('True label')\n",
    "    plt.xlabel('Predicted label')\n",
    "#     plt.figure(figsize=(10, 8), dpi=80)\n",
    "    plt.show()"
   ]
  },
  {
   "cell_type": "code",
   "execution_count": 35,
   "metadata": {},
   "outputs": [
    {
     "name": "stdout",
     "output_type": "stream",
     "text": [
      "Confusion matrix, without normalization\n",
      "[[204   0   1   4   9   7   0]\n",
      " [ 13 111   0  21  13  13  54]\n",
      " [  4   1 199   4   3   7   7]\n",
      " [  1  25   0 107  57   1  34]\n",
      " [ 52  23   1  29  50  27  41]\n",
      " [  7   5   0   7   2 198   3]\n",
      " [ 22  27   0   0  10   1 158]]\n"
     ]
    },
    {
     "data": {
      "image/png": "[encoded data removed]",
      "text/plain": [
       "<Figure size 432x288 with 2 Axes>"
      ]
     },
     "metadata": {
      "needs_background": "light"
     },
     "output_type": "display_data"
    }
   ],
   "source": [
    "plot_confusion_matrix(cm,category_count,False)"
   ]
  },
  {
   "cell_type": "code",
   "execution_count": 36,
   "metadata": {},
   "outputs": [
    {
     "name": "stdout",
     "output_type": "stream",
     "text": [
      "Normalized confusion matrix\n",
      "[[0.91 0.   0.   0.02 0.04 0.03 0.  ]\n",
      " [0.06 0.49 0.   0.09 0.06 0.06 0.24]\n",
      " [0.02 0.   0.88 0.02 0.01 0.03 0.03]\n",
      " [0.   0.11 0.   0.48 0.25 0.   0.15]\n",
      " [0.23 0.1  0.   0.13 0.22 0.12 0.18]\n",
      " [0.03 0.02 0.   0.03 0.01 0.89 0.01]\n",
      " [0.1  0.12 0.   0.   0.05 0.   0.72]]\n"
     ]
    },
    {
     "data": {
      "image/png": "[encoded data removed]",
      "text/plain": [
       "<Figure size 432x288 with 2 Axes>"
      ]
     },
     "metadata": {
      "needs_background": "light"
     },
     "output_type": "display_data"
    }
   ],
   "source": [
    "plot_confusion_matrix(cm,category_count,True)"
   ]
  },
  {
   "cell_type": "code",
   "execution_count": 37,
   "metadata": {},
   "outputs": [],
   "source": [
    "recall = np.diag(cm) / np.sum(cm, axis = 1)\n",
    "precision = np.diag(cm) / np.sum(cm, axis = 0)\n",
    "f_measure = (2*recall*precision)/(recall+precision)"
   ]
  },
  {
   "cell_type": "code",
   "execution_count": 38,
   "metadata": {},
   "outputs": [
    {
     "name": "stdout",
     "output_type": "stream",
     "text": [
      "0.6572682543900712\n",
      "0.6460387734994486\n",
      "0.6423458664609315\n"
     ]
    }
   ],
   "source": [
    "print(np.mean(recall))\n",
    "print(np.mean(precision))\n",
    "print(np.mean(f_measure))"
   ]
  },
  {
   "cell_type": "code",
   "execution_count": 41,
   "metadata": {},
   "outputs": [
    {
     "data": {
      "text/plain": [
       "0.6570697376839412"
      ]
     },
     "execution_count": 41,
     "metadata": {},
     "output_type": "execute_result"
    }
   ],
   "source": [
    "from sklearn.metrics import precision_score\n",
    "precision_score(y_true, y_pred, average='micro')"
   ]
  },
  {
   "cell_type": "code",
   "execution_count": null,
   "metadata": {},
   "outputs": [],
   "source": []
  }
 ],
 "metadata": {
  "kernelspec": {
   "display_name": "Python 3",
   "language": "python",
   "name": "python3"
  },
  "language_info": {
   "codemirror_mode": {
    "name": "ipython",
    "version": 3
   },
   "file_extension": ".py",
   "mimetype": "text/x-python",
   "name": "python",
   "nbconvert_exporter": "python",
   "pygments_lexer": "ipython3",
   "version": "3.8.5"
  }
 },
 "nbformat": 4,
 "nbformat_minor": 4
}
